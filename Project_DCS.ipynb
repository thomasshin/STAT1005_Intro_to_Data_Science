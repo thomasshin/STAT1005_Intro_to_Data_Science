{
  "nbformat": 4,
  "nbformat_minor": 0,
  "metadata": {
    "colab": {
      "provenance": [],
      "collapsed_sections": [
        "k8P99Y0AdGuh",
        "LK59hE23wfGU",
        "R9oRFIRMcg5J"
      ],
      "include_colab_link": true
    },
    "kernelspec": {
      "name": "python3",
      "display_name": "Python 3"
    },
    "language_info": {
      "name": "python"
    }
  },
  "cells": [
    {
      "cell_type": "markdown",
      "metadata": {
        "id": "view-in-github",
        "colab_type": "text"
      },
      "source": [
        "<a href=\"https://colab.research.google.com/github/thomasshin/STAT1005_Intro_to_Data_Science/blob/main/Project_DCS.ipynb\" target=\"_parent\"><img src=\"https://colab.research.google.com/assets/colab-badge.svg\" alt=\"Open In Colab\"/></a>"
      ]
    },
    {
      "cell_type": "markdown",
      "source": [
        "### ***DATA UPLOADING***\n",
        "Data uploaded from google drive"
      ],
      "metadata": {
        "id": "Dhm_MCfT8vxd"
      }
    },
    {
      "cell_type": "code",
      "execution_count": null,
      "metadata": {
        "id": "f8yPuF4DiB41"
      },
      "outputs": [],
      "source": [
        "from google.colab import drive\n",
        "import matplotlib.pyplot as plt\n",
        "import pandas as pd\n",
        "import numpy as np"
      ]
    },
    {
      "cell_type": "code",
      "source": [
        "drive.mount('/content/drive')"
      ],
      "metadata": {
        "colab": {
          "base_uri": "https://localhost:8080/"
        },
        "id": "INWRybpXQj26",
        "outputId": "5a075f2f-01f1-49fa-f7e7-698a3b03ee3a"
      },
      "execution_count": null,
      "outputs": [
        {
          "output_type": "stream",
          "name": "stdout",
          "text": [
            "Drive already mounted at /content/drive; to attempt to forcibly remount, call drive.mount(\"/content/drive\", force_remount=True).\n"
          ]
        }
      ]
    },
    {
      "cell_type": "code",
      "source": [
        "!ls \"/content/drive/My Drive/stat1005\""
      ],
      "metadata": {
        "colab": {
          "base_uri": "https://localhost:8080/"
        },
        "id": "EiPFSbnAQlc7",
        "outputId": "63076140-bde1-4d8f-c7d4-be6496a816fe"
      },
      "execution_count": null,
      "outputs": [
        {
          "output_type": "stream",
          "name": "stdout",
          "text": [
            "carInsurance_test_final.csv\n"
          ]
        }
      ]
    },
    {
      "cell_type": "code",
      "source": [
        "!cp \"/content/drive/My Drive/stat1005/carInsurance_test_final.csv\" \"carInsurance_test_final.csv\""
      ],
      "metadata": {
        "id": "630J5zFvQna0"
      },
      "execution_count": null,
      "outputs": []
    },
    {
      "cell_type": "code",
      "source": [
        "!ls"
      ],
      "metadata": {
        "colab": {
          "base_uri": "https://localhost:8080/"
        },
        "id": "Qy8venG2QpO0",
        "outputId": "cf81d3a2-6b1c-4e54-f9ce-9dbd353576bc"
      },
      "execution_count": null,
      "outputs": [
        {
          "output_type": "stream",
          "name": "stdout",
          "text": [
            "carInsurance_test_final.csv  drive  sample_data\n"
          ]
        }
      ]
    },
    {
      "cell_type": "code",
      "source": [
        "#insurance variable for dataframe of csv file\n",
        "insurance = pd.read_csv(\"carInsurance_test_final.csv\")"
      ],
      "metadata": {
        "id": "1ZsEKmThQ8V0"
      },
      "execution_count": null,
      "outputs": []
    },
    {
      "cell_type": "markdown",
      "source": [
        "### ***DATA CLEANING***\n",
        "1. Rows with NaN were removed using iloc (There are rows filled with NaN)\n",
        "2. Indexes were resetted using reset_index()\n",
        "3. NA values in each feature were filled\n",
        "4. New feature \"CallDuration(min)\" was created"
      ],
      "metadata": {
        "id": "yzjHf82S84ls"
      }
    },
    {
      "cell_type": "code",
      "source": [
        "insurance.head()"
      ],
      "metadata": {
        "colab": {
          "base_uri": "https://localhost:8080/",
          "height": 270
        },
        "id": "A3ETUhPijAdn",
        "outputId": "eb5e4770-432e-4ed6-fb8f-ecb99a5a0a50"
      },
      "execution_count": null,
      "outputs": [
        {
          "output_type": "execute_result",
          "data": {
            "text/plain": [
              "       Id   Age         Job  Marital  Education  Default  Balance  \\\n",
              "0     NaN   NaN         NaN      NaN        NaN      NaN      NaN   \n",
              "1  4001.0  25.0      admin.   single  secondary      0.0      1.0   \n",
              "2     NaN   NaN         NaN      NaN        NaN      NaN      NaN   \n",
              "3  4002.0  40.0  management  married   tertiary      0.0      0.0   \n",
              "4     NaN   NaN         NaN      NaN        NaN      NaN      NaN   \n",
              "\n",
              "   HHInsurance  CarLoan Communication  LastContactDay LastContactMonth  \\\n",
              "0          NaN      NaN           NaN             NaN              NaN   \n",
              "1          1.0      1.0         email            12.0              may   \n",
              "2          NaN      NaN           NaN             NaN              NaN   \n",
              "3          1.0      1.0          text            24.0              jul   \n",
              "4          NaN      NaN           NaN             NaN              NaN   \n",
              "\n",
              "   NoOfContacts  DaysPassed  PrevAttempts Outcome CallStart   CallEnd  \\\n",
              "0           NaN         NaN           NaN     NaN       NaN       NaN   \n",
              "1          12.0        -1.0           0.0     NaN  17:17:42  17:18:06   \n",
              "2           NaN         NaN           NaN     NaN       NaN       NaN   \n",
              "3           1.0        -1.0           0.0     NaN   9:13:44   9:14:37   \n",
              "4           NaN         NaN           NaN     NaN       NaN       NaN   \n",
              "\n",
              "   CarInsurance  Rating  \n",
              "0           NaN     NaN  \n",
              "1           1.0     0.0  \n",
              "2           NaN     NaN  \n",
              "3           1.0     2.0  \n",
              "4           NaN     NaN  "
            ],
            "text/html": [
              "\n",
              "  <div id=\"df-fe832a70-3ce8-4334-8074-f1b05ddf9af7\">\n",
              "    <div class=\"colab-df-container\">\n",
              "      <div>\n",
              "<style scoped>\n",
              "    .dataframe tbody tr th:only-of-type {\n",
              "        vertical-align: middle;\n",
              "    }\n",
              "\n",
              "    .dataframe tbody tr th {\n",
              "        vertical-align: top;\n",
              "    }\n",
              "\n",
              "    .dataframe thead th {\n",
              "        text-align: right;\n",
              "    }\n",
              "</style>\n",
              "<table border=\"1\" class=\"dataframe\">\n",
              "  <thead>\n",
              "    <tr style=\"text-align: right;\">\n",
              "      <th></th>\n",
              "      <th>Id</th>\n",
              "      <th>Age</th>\n",
              "      <th>Job</th>\n",
              "      <th>Marital</th>\n",
              "      <th>Education</th>\n",
              "      <th>Default</th>\n",
              "      <th>Balance</th>\n",
              "      <th>HHInsurance</th>\n",
              "      <th>CarLoan</th>\n",
              "      <th>Communication</th>\n",
              "      <th>LastContactDay</th>\n",
              "      <th>LastContactMonth</th>\n",
              "      <th>NoOfContacts</th>\n",
              "      <th>DaysPassed</th>\n",
              "      <th>PrevAttempts</th>\n",
              "      <th>Outcome</th>\n",
              "      <th>CallStart</th>\n",
              "      <th>CallEnd</th>\n",
              "      <th>CarInsurance</th>\n",
              "      <th>Rating</th>\n",
              "    </tr>\n",
              "  </thead>\n",
              "  <tbody>\n",
              "    <tr>\n",
              "      <th>0</th>\n",
              "      <td>NaN</td>\n",
              "      <td>NaN</td>\n",
              "      <td>NaN</td>\n",
              "      <td>NaN</td>\n",
              "      <td>NaN</td>\n",
              "      <td>NaN</td>\n",
              "      <td>NaN</td>\n",
              "      <td>NaN</td>\n",
              "      <td>NaN</td>\n",
              "      <td>NaN</td>\n",
              "      <td>NaN</td>\n",
              "      <td>NaN</td>\n",
              "      <td>NaN</td>\n",
              "      <td>NaN</td>\n",
              "      <td>NaN</td>\n",
              "      <td>NaN</td>\n",
              "      <td>NaN</td>\n",
              "      <td>NaN</td>\n",
              "      <td>NaN</td>\n",
              "      <td>NaN</td>\n",
              "    </tr>\n",
              "    <tr>\n",
              "      <th>1</th>\n",
              "      <td>4001.0</td>\n",
              "      <td>25.0</td>\n",
              "      <td>admin.</td>\n",
              "      <td>single</td>\n",
              "      <td>secondary</td>\n",
              "      <td>0.0</td>\n",
              "      <td>1.0</td>\n",
              "      <td>1.0</td>\n",
              "      <td>1.0</td>\n",
              "      <td>email</td>\n",
              "      <td>12.0</td>\n",
              "      <td>may</td>\n",
              "      <td>12.0</td>\n",
              "      <td>-1.0</td>\n",
              "      <td>0.0</td>\n",
              "      <td>NaN</td>\n",
              "      <td>17:17:42</td>\n",
              "      <td>17:18:06</td>\n",
              "      <td>1.0</td>\n",
              "      <td>0.0</td>\n",
              "    </tr>\n",
              "    <tr>\n",
              "      <th>2</th>\n",
              "      <td>NaN</td>\n",
              "      <td>NaN</td>\n",
              "      <td>NaN</td>\n",
              "      <td>NaN</td>\n",
              "      <td>NaN</td>\n",
              "      <td>NaN</td>\n",
              "      <td>NaN</td>\n",
              "      <td>NaN</td>\n",
              "      <td>NaN</td>\n",
              "      <td>NaN</td>\n",
              "      <td>NaN</td>\n",
              "      <td>NaN</td>\n",
              "      <td>NaN</td>\n",
              "      <td>NaN</td>\n",
              "      <td>NaN</td>\n",
              "      <td>NaN</td>\n",
              "      <td>NaN</td>\n",
              "      <td>NaN</td>\n",
              "      <td>NaN</td>\n",
              "      <td>NaN</td>\n",
              "    </tr>\n",
              "    <tr>\n",
              "      <th>3</th>\n",
              "      <td>4002.0</td>\n",
              "      <td>40.0</td>\n",
              "      <td>management</td>\n",
              "      <td>married</td>\n",
              "      <td>tertiary</td>\n",
              "      <td>0.0</td>\n",
              "      <td>0.0</td>\n",
              "      <td>1.0</td>\n",
              "      <td>1.0</td>\n",
              "      <td>text</td>\n",
              "      <td>24.0</td>\n",
              "      <td>jul</td>\n",
              "      <td>1.0</td>\n",
              "      <td>-1.0</td>\n",
              "      <td>0.0</td>\n",
              "      <td>NaN</td>\n",
              "      <td>9:13:44</td>\n",
              "      <td>9:14:37</td>\n",
              "      <td>1.0</td>\n",
              "      <td>2.0</td>\n",
              "    </tr>\n",
              "    <tr>\n",
              "      <th>4</th>\n",
              "      <td>NaN</td>\n",
              "      <td>NaN</td>\n",
              "      <td>NaN</td>\n",
              "      <td>NaN</td>\n",
              "      <td>NaN</td>\n",
              "      <td>NaN</td>\n",
              "      <td>NaN</td>\n",
              "      <td>NaN</td>\n",
              "      <td>NaN</td>\n",
              "      <td>NaN</td>\n",
              "      <td>NaN</td>\n",
              "      <td>NaN</td>\n",
              "      <td>NaN</td>\n",
              "      <td>NaN</td>\n",
              "      <td>NaN</td>\n",
              "      <td>NaN</td>\n",
              "      <td>NaN</td>\n",
              "      <td>NaN</td>\n",
              "      <td>NaN</td>\n",
              "      <td>NaN</td>\n",
              "    </tr>\n",
              "  </tbody>\n",
              "</table>\n",
              "</div>\n",
              "      <button class=\"colab-df-convert\" onclick=\"convertToInteractive('df-fe832a70-3ce8-4334-8074-f1b05ddf9af7')\"\n",
              "              title=\"Convert this dataframe to an interactive table.\"\n",
              "              style=\"display:none;\">\n",
              "        \n",
              "  <svg xmlns=\"http://www.w3.org/2000/svg\" height=\"24px\"viewBox=\"0 0 24 24\"\n",
              "       width=\"24px\">\n",
              "    <path d=\"M0 0h24v24H0V0z\" fill=\"none\"/>\n",
              "    <path d=\"M18.56 5.44l.94 2.06.94-2.06 2.06-.94-2.06-.94-.94-2.06-.94 2.06-2.06.94zm-11 1L8.5 8.5l.94-2.06 2.06-.94-2.06-.94L8.5 2.5l-.94 2.06-2.06.94zm10 10l.94 2.06.94-2.06 2.06-.94-2.06-.94-.94-2.06-.94 2.06-2.06.94z\"/><path d=\"M17.41 7.96l-1.37-1.37c-.4-.4-.92-.59-1.43-.59-.52 0-1.04.2-1.43.59L10.3 9.45l-7.72 7.72c-.78.78-.78 2.05 0 2.83L4 21.41c.39.39.9.59 1.41.59.51 0 1.02-.2 1.41-.59l7.78-7.78 2.81-2.81c.8-.78.8-2.07 0-2.86zM5.41 20L4 18.59l7.72-7.72 1.47 1.35L5.41 20z\"/>\n",
              "  </svg>\n",
              "      </button>\n",
              "      \n",
              "  <style>\n",
              "    .colab-df-container {\n",
              "      display:flex;\n",
              "      flex-wrap:wrap;\n",
              "      gap: 12px;\n",
              "    }\n",
              "\n",
              "    .colab-df-convert {\n",
              "      background-color: #E8F0FE;\n",
              "      border: none;\n",
              "      border-radius: 50%;\n",
              "      cursor: pointer;\n",
              "      display: none;\n",
              "      fill: #1967D2;\n",
              "      height: 32px;\n",
              "      padding: 0 0 0 0;\n",
              "      width: 32px;\n",
              "    }\n",
              "\n",
              "    .colab-df-convert:hover {\n",
              "      background-color: #E2EBFA;\n",
              "      box-shadow: 0px 1px 2px rgba(60, 64, 67, 0.3), 0px 1px 3px 1px rgba(60, 64, 67, 0.15);\n",
              "      fill: #174EA6;\n",
              "    }\n",
              "\n",
              "    [theme=dark] .colab-df-convert {\n",
              "      background-color: #3B4455;\n",
              "      fill: #D2E3FC;\n",
              "    }\n",
              "\n",
              "    [theme=dark] .colab-df-convert:hover {\n",
              "      background-color: #434B5C;\n",
              "      box-shadow: 0px 1px 3px 1px rgba(0, 0, 0, 0.15);\n",
              "      filter: drop-shadow(0px 1px 2px rgba(0, 0, 0, 0.3));\n",
              "      fill: #FFFFFF;\n",
              "    }\n",
              "  </style>\n",
              "\n",
              "      <script>\n",
              "        const buttonEl =\n",
              "          document.querySelector('#df-fe832a70-3ce8-4334-8074-f1b05ddf9af7 button.colab-df-convert');\n",
              "        buttonEl.style.display =\n",
              "          google.colab.kernel.accessAllowed ? 'block' : 'none';\n",
              "\n",
              "        async function convertToInteractive(key) {\n",
              "          const element = document.querySelector('#df-fe832a70-3ce8-4334-8074-f1b05ddf9af7');\n",
              "          const dataTable =\n",
              "            await google.colab.kernel.invokeFunction('convertToInteractive',\n",
              "                                                     [key], {});\n",
              "          if (!dataTable) return;\n",
              "\n",
              "          const docLinkHtml = 'Like what you see? Visit the ' +\n",
              "            '<a target=\"_blank\" href=https://colab.research.google.com/notebooks/data_table.ipynb>data table notebook</a>'\n",
              "            + ' to learn more about interactive tables.';\n",
              "          element.innerHTML = '';\n",
              "          dataTable['output_type'] = 'display_data';\n",
              "          await google.colab.output.renderOutput(dataTable, element);\n",
              "          const docLink = document.createElement('div');\n",
              "          docLink.innerHTML = docLinkHtml;\n",
              "          element.appendChild(docLink);\n",
              "        }\n",
              "      </script>\n",
              "    </div>\n",
              "  </div>\n",
              "  "
            ]
          },
          "metadata": {},
          "execution_count": 173
        }
      ]
    },
    {
      "cell_type": "code",
      "source": [
        "#remove NaN rows\n",
        "import numpy as np\n",
        "insurance = insurance.iloc[np.arange(1,2000,2),:]\n",
        "insurance"
      ],
      "metadata": {
        "colab": {
          "base_uri": "https://localhost:8080/",
          "height": 488
        },
        "id": "tMp80vemj3cX",
        "outputId": "89ae7ce5-a5fb-4a88-f19c-76004b263875"
      },
      "execution_count": null,
      "outputs": [
        {
          "output_type": "execute_result",
          "data": {
            "text/plain": [
              "          Id   Age         Job  Marital  Education  Default  Balance  \\\n",
              "1     4001.0  25.0      admin.   single  secondary      0.0      1.0   \n",
              "3     4002.0  40.0  management  married   tertiary      0.0      0.0   \n",
              "5     4003.0  44.0  management   single   tertiary      0.0  -1313.0   \n",
              "7     4004.0  27.0    services   single  secondary      0.0   6279.0   \n",
              "9     4005.0  53.0  technician  married  secondary      0.0   7984.0   \n",
              "...      ...   ...         ...      ...        ...      ...      ...   \n",
              "1991  4996.0  31.0      admin.   single  secondary      0.0    131.0   \n",
              "1993  4997.0  52.0  management  married   tertiary      0.0   2635.0   \n",
              "1995  4998.0  46.0  technician  married   tertiary      0.0   3009.0   \n",
              "1997  4999.0  60.0     retired  married  secondary      0.0   7038.0   \n",
              "1999  5000.0  28.0  management   single   tertiary      0.0    957.0   \n",
              "\n",
              "      HHInsurance  CarLoan Communication  LastContactDay LastContactMonth  \\\n",
              "1             1.0      1.0         email            12.0              may   \n",
              "3             1.0      1.0          text            24.0              jul   \n",
              "5             1.0      1.0          text            15.0              may   \n",
              "7             1.0      0.0          text             9.0              nov   \n",
              "9             1.0      0.0          text             2.0              feb   \n",
              "...           ...      ...           ...             ...              ...   \n",
              "1991          1.0      0.0          text            15.0              jun   \n",
              "1993          0.0      0.0          text             6.0              sep   \n",
              "1995          0.0      0.0          text             4.0              aug   \n",
              "1997          0.0      0.0     telephone             7.0              oct   \n",
              "1999          0.0      0.0          text            25.0              may   \n",
              "\n",
              "      NoOfContacts  DaysPassed  PrevAttempts  Outcome CallStart   CallEnd  \\\n",
              "1             12.0        -1.0           0.0      NaN  17:17:42  17:18:06   \n",
              "3              1.0        -1.0           0.0      NaN   9:13:44   9:14:37   \n",
              "5             10.0        -1.0           0.0      NaN  15:24:07  15:25:51   \n",
              "7              1.0        -1.0           0.0      NaN   9:43:44   9:48:01   \n",
              "9              1.0        -1.0           0.0      NaN  16:31:51  16:34:22   \n",
              "...            ...         ...           ...      ...       ...       ...   \n",
              "1991           1.0        -1.0           0.0      NaN  13:54:24  13:56:55   \n",
              "1993           1.0       108.0           8.0  success  13:13:38  13:18:51   \n",
              "1995           2.0        -1.0           0.0      NaN  10:23:35  10:24:33   \n",
              "1997           4.0        -1.0           0.0      NaN  17:01:49  17:04:07   \n",
              "1999           2.0        -1.0           0.0      NaN  12:15:19  12:30:34   \n",
              "\n",
              "      CarInsurance  Rating  \n",
              "1              1.0     0.0  \n",
              "3              1.0     2.0  \n",
              "5              0.0     3.0  \n",
              "7              0.0     2.0  \n",
              "9              0.0     5.0  \n",
              "...            ...     ...  \n",
              "1991           0.0     3.0  \n",
              "1993           0.0     2.0  \n",
              "1995           1.0     0.0  \n",
              "1997           1.0     3.0  \n",
              "1999           0.0     1.0  \n",
              "\n",
              "[1000 rows x 20 columns]"
            ],
            "text/html": [
              "\n",
              "  <div id=\"df-e31b580a-b19d-4403-99b0-63cf98853aed\">\n",
              "    <div class=\"colab-df-container\">\n",
              "      <div>\n",
              "<style scoped>\n",
              "    .dataframe tbody tr th:only-of-type {\n",
              "        vertical-align: middle;\n",
              "    }\n",
              "\n",
              "    .dataframe tbody tr th {\n",
              "        vertical-align: top;\n",
              "    }\n",
              "\n",
              "    .dataframe thead th {\n",
              "        text-align: right;\n",
              "    }\n",
              "</style>\n",
              "<table border=\"1\" class=\"dataframe\">\n",
              "  <thead>\n",
              "    <tr style=\"text-align: right;\">\n",
              "      <th></th>\n",
              "      <th>Id</th>\n",
              "      <th>Age</th>\n",
              "      <th>Job</th>\n",
              "      <th>Marital</th>\n",
              "      <th>Education</th>\n",
              "      <th>Default</th>\n",
              "      <th>Balance</th>\n",
              "      <th>HHInsurance</th>\n",
              "      <th>CarLoan</th>\n",
              "      <th>Communication</th>\n",
              "      <th>LastContactDay</th>\n",
              "      <th>LastContactMonth</th>\n",
              "      <th>NoOfContacts</th>\n",
              "      <th>DaysPassed</th>\n",
              "      <th>PrevAttempts</th>\n",
              "      <th>Outcome</th>\n",
              "      <th>CallStart</th>\n",
              "      <th>CallEnd</th>\n",
              "      <th>CarInsurance</th>\n",
              "      <th>Rating</th>\n",
              "    </tr>\n",
              "  </thead>\n",
              "  <tbody>\n",
              "    <tr>\n",
              "      <th>1</th>\n",
              "      <td>4001.0</td>\n",
              "      <td>25.0</td>\n",
              "      <td>admin.</td>\n",
              "      <td>single</td>\n",
              "      <td>secondary</td>\n",
              "      <td>0.0</td>\n",
              "      <td>1.0</td>\n",
              "      <td>1.0</td>\n",
              "      <td>1.0</td>\n",
              "      <td>email</td>\n",
              "      <td>12.0</td>\n",
              "      <td>may</td>\n",
              "      <td>12.0</td>\n",
              "      <td>-1.0</td>\n",
              "      <td>0.0</td>\n",
              "      <td>NaN</td>\n",
              "      <td>17:17:42</td>\n",
              "      <td>17:18:06</td>\n",
              "      <td>1.0</td>\n",
              "      <td>0.0</td>\n",
              "    </tr>\n",
              "    <tr>\n",
              "      <th>3</th>\n",
              "      <td>4002.0</td>\n",
              "      <td>40.0</td>\n",
              "      <td>management</td>\n",
              "      <td>married</td>\n",
              "      <td>tertiary</td>\n",
              "      <td>0.0</td>\n",
              "      <td>0.0</td>\n",
              "      <td>1.0</td>\n",
              "      <td>1.0</td>\n",
              "      <td>text</td>\n",
              "      <td>24.0</td>\n",
              "      <td>jul</td>\n",
              "      <td>1.0</td>\n",
              "      <td>-1.0</td>\n",
              "      <td>0.0</td>\n",
              "      <td>NaN</td>\n",
              "      <td>9:13:44</td>\n",
              "      <td>9:14:37</td>\n",
              "      <td>1.0</td>\n",
              "      <td>2.0</td>\n",
              "    </tr>\n",
              "    <tr>\n",
              "      <th>5</th>\n",
              "      <td>4003.0</td>\n",
              "      <td>44.0</td>\n",
              "      <td>management</td>\n",
              "      <td>single</td>\n",
              "      <td>tertiary</td>\n",
              "      <td>0.0</td>\n",
              "      <td>-1313.0</td>\n",
              "      <td>1.0</td>\n",
              "      <td>1.0</td>\n",
              "      <td>text</td>\n",
              "      <td>15.0</td>\n",
              "      <td>may</td>\n",
              "      <td>10.0</td>\n",
              "      <td>-1.0</td>\n",
              "      <td>0.0</td>\n",
              "      <td>NaN</td>\n",
              "      <td>15:24:07</td>\n",
              "      <td>15:25:51</td>\n",
              "      <td>0.0</td>\n",
              "      <td>3.0</td>\n",
              "    </tr>\n",
              "    <tr>\n",
              "      <th>7</th>\n",
              "      <td>4004.0</td>\n",
              "      <td>27.0</td>\n",
              "      <td>services</td>\n",
              "      <td>single</td>\n",
              "      <td>secondary</td>\n",
              "      <td>0.0</td>\n",
              "      <td>6279.0</td>\n",
              "      <td>1.0</td>\n",
              "      <td>0.0</td>\n",
              "      <td>text</td>\n",
              "      <td>9.0</td>\n",
              "      <td>nov</td>\n",
              "      <td>1.0</td>\n",
              "      <td>-1.0</td>\n",
              "      <td>0.0</td>\n",
              "      <td>NaN</td>\n",
              "      <td>9:43:44</td>\n",
              "      <td>9:48:01</td>\n",
              "      <td>0.0</td>\n",
              "      <td>2.0</td>\n",
              "    </tr>\n",
              "    <tr>\n",
              "      <th>9</th>\n",
              "      <td>4005.0</td>\n",
              "      <td>53.0</td>\n",
              "      <td>technician</td>\n",
              "      <td>married</td>\n",
              "      <td>secondary</td>\n",
              "      <td>0.0</td>\n",
              "      <td>7984.0</td>\n",
              "      <td>1.0</td>\n",
              "      <td>0.0</td>\n",
              "      <td>text</td>\n",
              "      <td>2.0</td>\n",
              "      <td>feb</td>\n",
              "      <td>1.0</td>\n",
              "      <td>-1.0</td>\n",
              "      <td>0.0</td>\n",
              "      <td>NaN</td>\n",
              "      <td>16:31:51</td>\n",
              "      <td>16:34:22</td>\n",
              "      <td>0.0</td>\n",
              "      <td>5.0</td>\n",
              "    </tr>\n",
              "    <tr>\n",
              "      <th>...</th>\n",
              "      <td>...</td>\n",
              "      <td>...</td>\n",
              "      <td>...</td>\n",
              "      <td>...</td>\n",
              "      <td>...</td>\n",
              "      <td>...</td>\n",
              "      <td>...</td>\n",
              "      <td>...</td>\n",
              "      <td>...</td>\n",
              "      <td>...</td>\n",
              "      <td>...</td>\n",
              "      <td>...</td>\n",
              "      <td>...</td>\n",
              "      <td>...</td>\n",
              "      <td>...</td>\n",
              "      <td>...</td>\n",
              "      <td>...</td>\n",
              "      <td>...</td>\n",
              "      <td>...</td>\n",
              "      <td>...</td>\n",
              "    </tr>\n",
              "    <tr>\n",
              "      <th>1991</th>\n",
              "      <td>4996.0</td>\n",
              "      <td>31.0</td>\n",
              "      <td>admin.</td>\n",
              "      <td>single</td>\n",
              "      <td>secondary</td>\n",
              "      <td>0.0</td>\n",
              "      <td>131.0</td>\n",
              "      <td>1.0</td>\n",
              "      <td>0.0</td>\n",
              "      <td>text</td>\n",
              "      <td>15.0</td>\n",
              "      <td>jun</td>\n",
              "      <td>1.0</td>\n",
              "      <td>-1.0</td>\n",
              "      <td>0.0</td>\n",
              "      <td>NaN</td>\n",
              "      <td>13:54:24</td>\n",
              "      <td>13:56:55</td>\n",
              "      <td>0.0</td>\n",
              "      <td>3.0</td>\n",
              "    </tr>\n",
              "    <tr>\n",
              "      <th>1993</th>\n",
              "      <td>4997.0</td>\n",
              "      <td>52.0</td>\n",
              "      <td>management</td>\n",
              "      <td>married</td>\n",
              "      <td>tertiary</td>\n",
              "      <td>0.0</td>\n",
              "      <td>2635.0</td>\n",
              "      <td>0.0</td>\n",
              "      <td>0.0</td>\n",
              "      <td>text</td>\n",
              "      <td>6.0</td>\n",
              "      <td>sep</td>\n",
              "      <td>1.0</td>\n",
              "      <td>108.0</td>\n",
              "      <td>8.0</td>\n",
              "      <td>success</td>\n",
              "      <td>13:13:38</td>\n",
              "      <td>13:18:51</td>\n",
              "      <td>0.0</td>\n",
              "      <td>2.0</td>\n",
              "    </tr>\n",
              "    <tr>\n",
              "      <th>1995</th>\n",
              "      <td>4998.0</td>\n",
              "      <td>46.0</td>\n",
              "      <td>technician</td>\n",
              "      <td>married</td>\n",
              "      <td>tertiary</td>\n",
              "      <td>0.0</td>\n",
              "      <td>3009.0</td>\n",
              "      <td>0.0</td>\n",
              "      <td>0.0</td>\n",
              "      <td>text</td>\n",
              "      <td>4.0</td>\n",
              "      <td>aug</td>\n",
              "      <td>2.0</td>\n",
              "      <td>-1.0</td>\n",
              "      <td>0.0</td>\n",
              "      <td>NaN</td>\n",
              "      <td>10:23:35</td>\n",
              "      <td>10:24:33</td>\n",
              "      <td>1.0</td>\n",
              "      <td>0.0</td>\n",
              "    </tr>\n",
              "    <tr>\n",
              "      <th>1997</th>\n",
              "      <td>4999.0</td>\n",
              "      <td>60.0</td>\n",
              "      <td>retired</td>\n",
              "      <td>married</td>\n",
              "      <td>secondary</td>\n",
              "      <td>0.0</td>\n",
              "      <td>7038.0</td>\n",
              "      <td>0.0</td>\n",
              "      <td>0.0</td>\n",
              "      <td>telephone</td>\n",
              "      <td>7.0</td>\n",
              "      <td>oct</td>\n",
              "      <td>4.0</td>\n",
              "      <td>-1.0</td>\n",
              "      <td>0.0</td>\n",
              "      <td>NaN</td>\n",
              "      <td>17:01:49</td>\n",
              "      <td>17:04:07</td>\n",
              "      <td>1.0</td>\n",
              "      <td>3.0</td>\n",
              "    </tr>\n",
              "    <tr>\n",
              "      <th>1999</th>\n",
              "      <td>5000.0</td>\n",
              "      <td>28.0</td>\n",
              "      <td>management</td>\n",
              "      <td>single</td>\n",
              "      <td>tertiary</td>\n",
              "      <td>0.0</td>\n",
              "      <td>957.0</td>\n",
              "      <td>0.0</td>\n",
              "      <td>0.0</td>\n",
              "      <td>text</td>\n",
              "      <td>25.0</td>\n",
              "      <td>may</td>\n",
              "      <td>2.0</td>\n",
              "      <td>-1.0</td>\n",
              "      <td>0.0</td>\n",
              "      <td>NaN</td>\n",
              "      <td>12:15:19</td>\n",
              "      <td>12:30:34</td>\n",
              "      <td>0.0</td>\n",
              "      <td>1.0</td>\n",
              "    </tr>\n",
              "  </tbody>\n",
              "</table>\n",
              "<p>1000 rows × 20 columns</p>\n",
              "</div>\n",
              "      <button class=\"colab-df-convert\" onclick=\"convertToInteractive('df-e31b580a-b19d-4403-99b0-63cf98853aed')\"\n",
              "              title=\"Convert this dataframe to an interactive table.\"\n",
              "              style=\"display:none;\">\n",
              "        \n",
              "  <svg xmlns=\"http://www.w3.org/2000/svg\" height=\"24px\"viewBox=\"0 0 24 24\"\n",
              "       width=\"24px\">\n",
              "    <path d=\"M0 0h24v24H0V0z\" fill=\"none\"/>\n",
              "    <path d=\"M18.56 5.44l.94 2.06.94-2.06 2.06-.94-2.06-.94-.94-2.06-.94 2.06-2.06.94zm-11 1L8.5 8.5l.94-2.06 2.06-.94-2.06-.94L8.5 2.5l-.94 2.06-2.06.94zm10 10l.94 2.06.94-2.06 2.06-.94-2.06-.94-.94-2.06-.94 2.06-2.06.94z\"/><path d=\"M17.41 7.96l-1.37-1.37c-.4-.4-.92-.59-1.43-.59-.52 0-1.04.2-1.43.59L10.3 9.45l-7.72 7.72c-.78.78-.78 2.05 0 2.83L4 21.41c.39.39.9.59 1.41.59.51 0 1.02-.2 1.41-.59l7.78-7.78 2.81-2.81c.8-.78.8-2.07 0-2.86zM5.41 20L4 18.59l7.72-7.72 1.47 1.35L5.41 20z\"/>\n",
              "  </svg>\n",
              "      </button>\n",
              "      \n",
              "  <style>\n",
              "    .colab-df-container {\n",
              "      display:flex;\n",
              "      flex-wrap:wrap;\n",
              "      gap: 12px;\n",
              "    }\n",
              "\n",
              "    .colab-df-convert {\n",
              "      background-color: #E8F0FE;\n",
              "      border: none;\n",
              "      border-radius: 50%;\n",
              "      cursor: pointer;\n",
              "      display: none;\n",
              "      fill: #1967D2;\n",
              "      height: 32px;\n",
              "      padding: 0 0 0 0;\n",
              "      width: 32px;\n",
              "    }\n",
              "\n",
              "    .colab-df-convert:hover {\n",
              "      background-color: #E2EBFA;\n",
              "      box-shadow: 0px 1px 2px rgba(60, 64, 67, 0.3), 0px 1px 3px 1px rgba(60, 64, 67, 0.15);\n",
              "      fill: #174EA6;\n",
              "    }\n",
              "\n",
              "    [theme=dark] .colab-df-convert {\n",
              "      background-color: #3B4455;\n",
              "      fill: #D2E3FC;\n",
              "    }\n",
              "\n",
              "    [theme=dark] .colab-df-convert:hover {\n",
              "      background-color: #434B5C;\n",
              "      box-shadow: 0px 1px 3px 1px rgba(0, 0, 0, 0.15);\n",
              "      filter: drop-shadow(0px 1px 2px rgba(0, 0, 0, 0.3));\n",
              "      fill: #FFFFFF;\n",
              "    }\n",
              "  </style>\n",
              "\n",
              "      <script>\n",
              "        const buttonEl =\n",
              "          document.querySelector('#df-e31b580a-b19d-4403-99b0-63cf98853aed button.colab-df-convert');\n",
              "        buttonEl.style.display =\n",
              "          google.colab.kernel.accessAllowed ? 'block' : 'none';\n",
              "\n",
              "        async function convertToInteractive(key) {\n",
              "          const element = document.querySelector('#df-e31b580a-b19d-4403-99b0-63cf98853aed');\n",
              "          const dataTable =\n",
              "            await google.colab.kernel.invokeFunction('convertToInteractive',\n",
              "                                                     [key], {});\n",
              "          if (!dataTable) return;\n",
              "\n",
              "          const docLinkHtml = 'Like what you see? Visit the ' +\n",
              "            '<a target=\"_blank\" href=https://colab.research.google.com/notebooks/data_table.ipynb>data table notebook</a>'\n",
              "            + ' to learn more about interactive tables.';\n",
              "          element.innerHTML = '';\n",
              "          dataTable['output_type'] = 'display_data';\n",
              "          await google.colab.output.renderOutput(dataTable, element);\n",
              "          const docLink = document.createElement('div');\n",
              "          docLink.innerHTML = docLinkHtml;\n",
              "          element.appendChild(docLink);\n",
              "        }\n",
              "      </script>\n",
              "    </div>\n",
              "  </div>\n",
              "  "
            ]
          },
          "metadata": {},
          "execution_count": 174
        }
      ]
    },
    {
      "cell_type": "code",
      "source": [
        "#reset_index\n",
        "insurance.reset_index(inplace=True)"
      ],
      "metadata": {
        "id": "XVbnEvDtAdFM"
      },
      "execution_count": null,
      "outputs": []
    },
    {
      "cell_type": "code",
      "source": [
        "insurance.drop(['index'], axis=1, inplace=True)"
      ],
      "metadata": {
        "id": "HfoqVrSWAvc8"
      },
      "execution_count": null,
      "outputs": []
    },
    {
      "cell_type": "code",
      "source": [
        "insurance"
      ],
      "metadata": {
        "colab": {
          "base_uri": "https://localhost:8080/",
          "height": 488
        },
        "id": "FQrRtUgDA00U",
        "outputId": "8f8f34d8-8586-44d4-c265-b7ed1f60ac0b"
      },
      "execution_count": null,
      "outputs": [
        {
          "output_type": "execute_result",
          "data": {
            "text/plain": [
              "         Id   Age         Job  Marital  Education  Default  Balance  \\\n",
              "0    4001.0  25.0      admin.   single  secondary      0.0      1.0   \n",
              "1    4002.0  40.0  management  married   tertiary      0.0      0.0   \n",
              "2    4003.0  44.0  management   single   tertiary      0.0  -1313.0   \n",
              "3    4004.0  27.0    services   single  secondary      0.0   6279.0   \n",
              "4    4005.0  53.0  technician  married  secondary      0.0   7984.0   \n",
              "..      ...   ...         ...      ...        ...      ...      ...   \n",
              "995  4996.0  31.0      admin.   single  secondary      0.0    131.0   \n",
              "996  4997.0  52.0  management  married   tertiary      0.0   2635.0   \n",
              "997  4998.0  46.0  technician  married   tertiary      0.0   3009.0   \n",
              "998  4999.0  60.0     retired  married  secondary      0.0   7038.0   \n",
              "999  5000.0  28.0  management   single   tertiary      0.0    957.0   \n",
              "\n",
              "     HHInsurance  CarLoan Communication  LastContactDay LastContactMonth  \\\n",
              "0            1.0      1.0         email            12.0              may   \n",
              "1            1.0      1.0          text            24.0              jul   \n",
              "2            1.0      1.0          text            15.0              may   \n",
              "3            1.0      0.0          text             9.0              nov   \n",
              "4            1.0      0.0          text             2.0              feb   \n",
              "..           ...      ...           ...             ...              ...   \n",
              "995          1.0      0.0          text            15.0              jun   \n",
              "996          0.0      0.0          text             6.0              sep   \n",
              "997          0.0      0.0          text             4.0              aug   \n",
              "998          0.0      0.0     telephone             7.0              oct   \n",
              "999          0.0      0.0          text            25.0              may   \n",
              "\n",
              "     NoOfContacts  DaysPassed  PrevAttempts  Outcome CallStart   CallEnd  \\\n",
              "0            12.0        -1.0           0.0      NaN  17:17:42  17:18:06   \n",
              "1             1.0        -1.0           0.0      NaN   9:13:44   9:14:37   \n",
              "2            10.0        -1.0           0.0      NaN  15:24:07  15:25:51   \n",
              "3             1.0        -1.0           0.0      NaN   9:43:44   9:48:01   \n",
              "4             1.0        -1.0           0.0      NaN  16:31:51  16:34:22   \n",
              "..            ...         ...           ...      ...       ...       ...   \n",
              "995           1.0        -1.0           0.0      NaN  13:54:24  13:56:55   \n",
              "996           1.0       108.0           8.0  success  13:13:38  13:18:51   \n",
              "997           2.0        -1.0           0.0      NaN  10:23:35  10:24:33   \n",
              "998           4.0        -1.0           0.0      NaN  17:01:49  17:04:07   \n",
              "999           2.0        -1.0           0.0      NaN  12:15:19  12:30:34   \n",
              "\n",
              "     CarInsurance  Rating  \n",
              "0             1.0     0.0  \n",
              "1             1.0     2.0  \n",
              "2             0.0     3.0  \n",
              "3             0.0     2.0  \n",
              "4             0.0     5.0  \n",
              "..            ...     ...  \n",
              "995           0.0     3.0  \n",
              "996           0.0     2.0  \n",
              "997           1.0     0.0  \n",
              "998           1.0     3.0  \n",
              "999           0.0     1.0  \n",
              "\n",
              "[1000 rows x 20 columns]"
            ],
            "text/html": [
              "\n",
              "  <div id=\"df-c8f96fa9-b1fc-4f63-9c59-b13d92953dd3\">\n",
              "    <div class=\"colab-df-container\">\n",
              "      <div>\n",
              "<style scoped>\n",
              "    .dataframe tbody tr th:only-of-type {\n",
              "        vertical-align: middle;\n",
              "    }\n",
              "\n",
              "    .dataframe tbody tr th {\n",
              "        vertical-align: top;\n",
              "    }\n",
              "\n",
              "    .dataframe thead th {\n",
              "        text-align: right;\n",
              "    }\n",
              "</style>\n",
              "<table border=\"1\" class=\"dataframe\">\n",
              "  <thead>\n",
              "    <tr style=\"text-align: right;\">\n",
              "      <th></th>\n",
              "      <th>Id</th>\n",
              "      <th>Age</th>\n",
              "      <th>Job</th>\n",
              "      <th>Marital</th>\n",
              "      <th>Education</th>\n",
              "      <th>Default</th>\n",
              "      <th>Balance</th>\n",
              "      <th>HHInsurance</th>\n",
              "      <th>CarLoan</th>\n",
              "      <th>Communication</th>\n",
              "      <th>LastContactDay</th>\n",
              "      <th>LastContactMonth</th>\n",
              "      <th>NoOfContacts</th>\n",
              "      <th>DaysPassed</th>\n",
              "      <th>PrevAttempts</th>\n",
              "      <th>Outcome</th>\n",
              "      <th>CallStart</th>\n",
              "      <th>CallEnd</th>\n",
              "      <th>CarInsurance</th>\n",
              "      <th>Rating</th>\n",
              "    </tr>\n",
              "  </thead>\n",
              "  <tbody>\n",
              "    <tr>\n",
              "      <th>0</th>\n",
              "      <td>4001.0</td>\n",
              "      <td>25.0</td>\n",
              "      <td>admin.</td>\n",
              "      <td>single</td>\n",
              "      <td>secondary</td>\n",
              "      <td>0.0</td>\n",
              "      <td>1.0</td>\n",
              "      <td>1.0</td>\n",
              "      <td>1.0</td>\n",
              "      <td>email</td>\n",
              "      <td>12.0</td>\n",
              "      <td>may</td>\n",
              "      <td>12.0</td>\n",
              "      <td>-1.0</td>\n",
              "      <td>0.0</td>\n",
              "      <td>NaN</td>\n",
              "      <td>17:17:42</td>\n",
              "      <td>17:18:06</td>\n",
              "      <td>1.0</td>\n",
              "      <td>0.0</td>\n",
              "    </tr>\n",
              "    <tr>\n",
              "      <th>1</th>\n",
              "      <td>4002.0</td>\n",
              "      <td>40.0</td>\n",
              "      <td>management</td>\n",
              "      <td>married</td>\n",
              "      <td>tertiary</td>\n",
              "      <td>0.0</td>\n",
              "      <td>0.0</td>\n",
              "      <td>1.0</td>\n",
              "      <td>1.0</td>\n",
              "      <td>text</td>\n",
              "      <td>24.0</td>\n",
              "      <td>jul</td>\n",
              "      <td>1.0</td>\n",
              "      <td>-1.0</td>\n",
              "      <td>0.0</td>\n",
              "      <td>NaN</td>\n",
              "      <td>9:13:44</td>\n",
              "      <td>9:14:37</td>\n",
              "      <td>1.0</td>\n",
              "      <td>2.0</td>\n",
              "    </tr>\n",
              "    <tr>\n",
              "      <th>2</th>\n",
              "      <td>4003.0</td>\n",
              "      <td>44.0</td>\n",
              "      <td>management</td>\n",
              "      <td>single</td>\n",
              "      <td>tertiary</td>\n",
              "      <td>0.0</td>\n",
              "      <td>-1313.0</td>\n",
              "      <td>1.0</td>\n",
              "      <td>1.0</td>\n",
              "      <td>text</td>\n",
              "      <td>15.0</td>\n",
              "      <td>may</td>\n",
              "      <td>10.0</td>\n",
              "      <td>-1.0</td>\n",
              "      <td>0.0</td>\n",
              "      <td>NaN</td>\n",
              "      <td>15:24:07</td>\n",
              "      <td>15:25:51</td>\n",
              "      <td>0.0</td>\n",
              "      <td>3.0</td>\n",
              "    </tr>\n",
              "    <tr>\n",
              "      <th>3</th>\n",
              "      <td>4004.0</td>\n",
              "      <td>27.0</td>\n",
              "      <td>services</td>\n",
              "      <td>single</td>\n",
              "      <td>secondary</td>\n",
              "      <td>0.0</td>\n",
              "      <td>6279.0</td>\n",
              "      <td>1.0</td>\n",
              "      <td>0.0</td>\n",
              "      <td>text</td>\n",
              "      <td>9.0</td>\n",
              "      <td>nov</td>\n",
              "      <td>1.0</td>\n",
              "      <td>-1.0</td>\n",
              "      <td>0.0</td>\n",
              "      <td>NaN</td>\n",
              "      <td>9:43:44</td>\n",
              "      <td>9:48:01</td>\n",
              "      <td>0.0</td>\n",
              "      <td>2.0</td>\n",
              "    </tr>\n",
              "    <tr>\n",
              "      <th>4</th>\n",
              "      <td>4005.0</td>\n",
              "      <td>53.0</td>\n",
              "      <td>technician</td>\n",
              "      <td>married</td>\n",
              "      <td>secondary</td>\n",
              "      <td>0.0</td>\n",
              "      <td>7984.0</td>\n",
              "      <td>1.0</td>\n",
              "      <td>0.0</td>\n",
              "      <td>text</td>\n",
              "      <td>2.0</td>\n",
              "      <td>feb</td>\n",
              "      <td>1.0</td>\n",
              "      <td>-1.0</td>\n",
              "      <td>0.0</td>\n",
              "      <td>NaN</td>\n",
              "      <td>16:31:51</td>\n",
              "      <td>16:34:22</td>\n",
              "      <td>0.0</td>\n",
              "      <td>5.0</td>\n",
              "    </tr>\n",
              "    <tr>\n",
              "      <th>...</th>\n",
              "      <td>...</td>\n",
              "      <td>...</td>\n",
              "      <td>...</td>\n",
              "      <td>...</td>\n",
              "      <td>...</td>\n",
              "      <td>...</td>\n",
              "      <td>...</td>\n",
              "      <td>...</td>\n",
              "      <td>...</td>\n",
              "      <td>...</td>\n",
              "      <td>...</td>\n",
              "      <td>...</td>\n",
              "      <td>...</td>\n",
              "      <td>...</td>\n",
              "      <td>...</td>\n",
              "      <td>...</td>\n",
              "      <td>...</td>\n",
              "      <td>...</td>\n",
              "      <td>...</td>\n",
              "      <td>...</td>\n",
              "    </tr>\n",
              "    <tr>\n",
              "      <th>995</th>\n",
              "      <td>4996.0</td>\n",
              "      <td>31.0</td>\n",
              "      <td>admin.</td>\n",
              "      <td>single</td>\n",
              "      <td>secondary</td>\n",
              "      <td>0.0</td>\n",
              "      <td>131.0</td>\n",
              "      <td>1.0</td>\n",
              "      <td>0.0</td>\n",
              "      <td>text</td>\n",
              "      <td>15.0</td>\n",
              "      <td>jun</td>\n",
              "      <td>1.0</td>\n",
              "      <td>-1.0</td>\n",
              "      <td>0.0</td>\n",
              "      <td>NaN</td>\n",
              "      <td>13:54:24</td>\n",
              "      <td>13:56:55</td>\n",
              "      <td>0.0</td>\n",
              "      <td>3.0</td>\n",
              "    </tr>\n",
              "    <tr>\n",
              "      <th>996</th>\n",
              "      <td>4997.0</td>\n",
              "      <td>52.0</td>\n",
              "      <td>management</td>\n",
              "      <td>married</td>\n",
              "      <td>tertiary</td>\n",
              "      <td>0.0</td>\n",
              "      <td>2635.0</td>\n",
              "      <td>0.0</td>\n",
              "      <td>0.0</td>\n",
              "      <td>text</td>\n",
              "      <td>6.0</td>\n",
              "      <td>sep</td>\n",
              "      <td>1.0</td>\n",
              "      <td>108.0</td>\n",
              "      <td>8.0</td>\n",
              "      <td>success</td>\n",
              "      <td>13:13:38</td>\n",
              "      <td>13:18:51</td>\n",
              "      <td>0.0</td>\n",
              "      <td>2.0</td>\n",
              "    </tr>\n",
              "    <tr>\n",
              "      <th>997</th>\n",
              "      <td>4998.0</td>\n",
              "      <td>46.0</td>\n",
              "      <td>technician</td>\n",
              "      <td>married</td>\n",
              "      <td>tertiary</td>\n",
              "      <td>0.0</td>\n",
              "      <td>3009.0</td>\n",
              "      <td>0.0</td>\n",
              "      <td>0.0</td>\n",
              "      <td>text</td>\n",
              "      <td>4.0</td>\n",
              "      <td>aug</td>\n",
              "      <td>2.0</td>\n",
              "      <td>-1.0</td>\n",
              "      <td>0.0</td>\n",
              "      <td>NaN</td>\n",
              "      <td>10:23:35</td>\n",
              "      <td>10:24:33</td>\n",
              "      <td>1.0</td>\n",
              "      <td>0.0</td>\n",
              "    </tr>\n",
              "    <tr>\n",
              "      <th>998</th>\n",
              "      <td>4999.0</td>\n",
              "      <td>60.0</td>\n",
              "      <td>retired</td>\n",
              "      <td>married</td>\n",
              "      <td>secondary</td>\n",
              "      <td>0.0</td>\n",
              "      <td>7038.0</td>\n",
              "      <td>0.0</td>\n",
              "      <td>0.0</td>\n",
              "      <td>telephone</td>\n",
              "      <td>7.0</td>\n",
              "      <td>oct</td>\n",
              "      <td>4.0</td>\n",
              "      <td>-1.0</td>\n",
              "      <td>0.0</td>\n",
              "      <td>NaN</td>\n",
              "      <td>17:01:49</td>\n",
              "      <td>17:04:07</td>\n",
              "      <td>1.0</td>\n",
              "      <td>3.0</td>\n",
              "    </tr>\n",
              "    <tr>\n",
              "      <th>999</th>\n",
              "      <td>5000.0</td>\n",
              "      <td>28.0</td>\n",
              "      <td>management</td>\n",
              "      <td>single</td>\n",
              "      <td>tertiary</td>\n",
              "      <td>0.0</td>\n",
              "      <td>957.0</td>\n",
              "      <td>0.0</td>\n",
              "      <td>0.0</td>\n",
              "      <td>text</td>\n",
              "      <td>25.0</td>\n",
              "      <td>may</td>\n",
              "      <td>2.0</td>\n",
              "      <td>-1.0</td>\n",
              "      <td>0.0</td>\n",
              "      <td>NaN</td>\n",
              "      <td>12:15:19</td>\n",
              "      <td>12:30:34</td>\n",
              "      <td>0.0</td>\n",
              "      <td>1.0</td>\n",
              "    </tr>\n",
              "  </tbody>\n",
              "</table>\n",
              "<p>1000 rows × 20 columns</p>\n",
              "</div>\n",
              "      <button class=\"colab-df-convert\" onclick=\"convertToInteractive('df-c8f96fa9-b1fc-4f63-9c59-b13d92953dd3')\"\n",
              "              title=\"Convert this dataframe to an interactive table.\"\n",
              "              style=\"display:none;\">\n",
              "        \n",
              "  <svg xmlns=\"http://www.w3.org/2000/svg\" height=\"24px\"viewBox=\"0 0 24 24\"\n",
              "       width=\"24px\">\n",
              "    <path d=\"M0 0h24v24H0V0z\" fill=\"none\"/>\n",
              "    <path d=\"M18.56 5.44l.94 2.06.94-2.06 2.06-.94-2.06-.94-.94-2.06-.94 2.06-2.06.94zm-11 1L8.5 8.5l.94-2.06 2.06-.94-2.06-.94L8.5 2.5l-.94 2.06-2.06.94zm10 10l.94 2.06.94-2.06 2.06-.94-2.06-.94-.94-2.06-.94 2.06-2.06.94z\"/><path d=\"M17.41 7.96l-1.37-1.37c-.4-.4-.92-.59-1.43-.59-.52 0-1.04.2-1.43.59L10.3 9.45l-7.72 7.72c-.78.78-.78 2.05 0 2.83L4 21.41c.39.39.9.59 1.41.59.51 0 1.02-.2 1.41-.59l7.78-7.78 2.81-2.81c.8-.78.8-2.07 0-2.86zM5.41 20L4 18.59l7.72-7.72 1.47 1.35L5.41 20z\"/>\n",
              "  </svg>\n",
              "      </button>\n",
              "      \n",
              "  <style>\n",
              "    .colab-df-container {\n",
              "      display:flex;\n",
              "      flex-wrap:wrap;\n",
              "      gap: 12px;\n",
              "    }\n",
              "\n",
              "    .colab-df-convert {\n",
              "      background-color: #E8F0FE;\n",
              "      border: none;\n",
              "      border-radius: 50%;\n",
              "      cursor: pointer;\n",
              "      display: none;\n",
              "      fill: #1967D2;\n",
              "      height: 32px;\n",
              "      padding: 0 0 0 0;\n",
              "      width: 32px;\n",
              "    }\n",
              "\n",
              "    .colab-df-convert:hover {\n",
              "      background-color: #E2EBFA;\n",
              "      box-shadow: 0px 1px 2px rgba(60, 64, 67, 0.3), 0px 1px 3px 1px rgba(60, 64, 67, 0.15);\n",
              "      fill: #174EA6;\n",
              "    }\n",
              "\n",
              "    [theme=dark] .colab-df-convert {\n",
              "      background-color: #3B4455;\n",
              "      fill: #D2E3FC;\n",
              "    }\n",
              "\n",
              "    [theme=dark] .colab-df-convert:hover {\n",
              "      background-color: #434B5C;\n",
              "      box-shadow: 0px 1px 3px 1px rgba(0, 0, 0, 0.15);\n",
              "      filter: drop-shadow(0px 1px 2px rgba(0, 0, 0, 0.3));\n",
              "      fill: #FFFFFF;\n",
              "    }\n",
              "  </style>\n",
              "\n",
              "      <script>\n",
              "        const buttonEl =\n",
              "          document.querySelector('#df-c8f96fa9-b1fc-4f63-9c59-b13d92953dd3 button.colab-df-convert');\n",
              "        buttonEl.style.display =\n",
              "          google.colab.kernel.accessAllowed ? 'block' : 'none';\n",
              "\n",
              "        async function convertToInteractive(key) {\n",
              "          const element = document.querySelector('#df-c8f96fa9-b1fc-4f63-9c59-b13d92953dd3');\n",
              "          const dataTable =\n",
              "            await google.colab.kernel.invokeFunction('convertToInteractive',\n",
              "                                                     [key], {});\n",
              "          if (!dataTable) return;\n",
              "\n",
              "          const docLinkHtml = 'Like what you see? Visit the ' +\n",
              "            '<a target=\"_blank\" href=https://colab.research.google.com/notebooks/data_table.ipynb>data table notebook</a>'\n",
              "            + ' to learn more about interactive tables.';\n",
              "          element.innerHTML = '';\n",
              "          dataTable['output_type'] = 'display_data';\n",
              "          await google.colab.output.renderOutput(dataTable, element);\n",
              "          const docLink = document.createElement('div');\n",
              "          docLink.innerHTML = docLinkHtml;\n",
              "          element.appendChild(docLink);\n",
              "        }\n",
              "      </script>\n",
              "    </div>\n",
              "  </div>\n",
              "  "
            ]
          },
          "metadata": {},
          "execution_count": 177
        }
      ]
    },
    {
      "cell_type": "code",
      "source": [
        "insurance.info()"
      ],
      "metadata": {
        "colab": {
          "base_uri": "https://localhost:8080/"
        },
        "id": "CXgAb-aR_wp9",
        "outputId": "556c7e23-5dfe-4d14-c88f-ea71960767e5"
      },
      "execution_count": null,
      "outputs": [
        {
          "output_type": "stream",
          "name": "stdout",
          "text": [
            "<class 'pandas.core.frame.DataFrame'>\n",
            "RangeIndex: 1000 entries, 0 to 999\n",
            "Data columns (total 20 columns):\n",
            " #   Column            Non-Null Count  Dtype  \n",
            "---  ------            --------------  -----  \n",
            " 0   Id                1000 non-null   float64\n",
            " 1   Age               1000 non-null   float64\n",
            " 2   Job               995 non-null    object \n",
            " 3   Marital           1000 non-null   object \n",
            " 4   Education         953 non-null    object \n",
            " 5   Default           1000 non-null   float64\n",
            " 6   Balance           1000 non-null   float64\n",
            " 7   HHInsurance       1000 non-null   float64\n",
            " 8   CarLoan           1000 non-null   float64\n",
            " 9   Communication     1000 non-null   object \n",
            " 10  LastContactDay    1000 non-null   float64\n",
            " 11  LastContactMonth  1000 non-null   object \n",
            " 12  NoOfContacts      1000 non-null   float64\n",
            " 13  DaysPassed        1000 non-null   float64\n",
            " 14  PrevAttempts      1000 non-null   float64\n",
            " 15  Outcome           243 non-null    object \n",
            " 16  CallStart         1000 non-null   object \n",
            " 17  CallEnd           1000 non-null   object \n",
            " 18  CarInsurance      1000 non-null   float64\n",
            " 19  Rating            1000 non-null   float64\n",
            "dtypes: float64(12), object(8)\n",
            "memory usage: 156.4+ KB\n"
          ]
        }
      ]
    },
    {
      "cell_type": "code",
      "source": [
        "insurance['Job'].value_counts()"
      ],
      "metadata": {
        "colab": {
          "base_uri": "https://localhost:8080/"
        },
        "id": "96vlDS6GaEX9",
        "outputId": "7848a806-a116-49d0-e621-b3b0da50cca7"
      },
      "execution_count": null,
      "outputs": [
        {
          "output_type": "execute_result",
          "data": {
            "text/plain": [
              "management       221\n",
              "blue-collar      178\n",
              "technician       163\n",
              "admin.           127\n",
              "services          84\n",
              "retired           77\n",
              "self-employed     42\n",
              "unemployed        34\n",
              "entrepreneur      28\n",
              "student           27\n",
              "housemaid         14\n",
              "Name: Job, dtype: int64"
            ]
          },
          "metadata": {},
          "execution_count": 179
        }
      ]
    },
    {
      "cell_type": "code",
      "source": [
        "#fillna with \"unemployed\"\n",
        "insurance['Job'].fillna('unemployed', inplace=True)"
      ],
      "metadata": {
        "id": "WNZ-khSX_61F"
      },
      "execution_count": null,
      "outputs": []
    },
    {
      "cell_type": "code",
      "source": [
        "insurance['Education'].value_counts()"
      ],
      "metadata": {
        "colab": {
          "base_uri": "https://localhost:8080/"
        },
        "id": "7cNLCFmaa0Ei",
        "outputId": "f1b6e705-b3a3-4d84-bb95-5f367751448c"
      },
      "execution_count": null,
      "outputs": [
        {
          "output_type": "execute_result",
          "data": {
            "text/plain": [
              "secondary    501\n",
              "tertiary     319\n",
              "primary      133\n",
              "Name: Education, dtype: int64"
            ]
          },
          "metadata": {},
          "execution_count": 181
        }
      ]
    },
    {
      "cell_type": "code",
      "source": [
        "#fillna with \"unemployed\"\n",
        "insurance['Education'].fillna('tertiary', inplace=True)"
      ],
      "metadata": {
        "id": "oaY4A0RylUZG"
      },
      "execution_count": null,
      "outputs": []
    },
    {
      "cell_type": "code",
      "source": [
        "insurance['Education'].value_counts()"
      ],
      "metadata": {
        "colab": {
          "base_uri": "https://localhost:8080/"
        },
        "id": "CJlDB1JQcVV8",
        "outputId": "f4af6319-ed9e-4eff-e385-82571e7548b4"
      },
      "execution_count": null,
      "outputs": [
        {
          "output_type": "execute_result",
          "data": {
            "text/plain": [
              "secondary    501\n",
              "tertiary     366\n",
              "primary      133\n",
              "Name: Education, dtype: int64"
            ]
          },
          "metadata": {},
          "execution_count": 183
        }
      ]
    },
    {
      "cell_type": "code",
      "source": [
        "insurance['Outcome'].value_counts()"
      ],
      "metadata": {
        "colab": {
          "base_uri": "https://localhost:8080/"
        },
        "id": "6sxchMy-cgBJ",
        "outputId": "a4bb10a4-ec2b-47b2-8b6a-da4a15ba45c7"
      },
      "execution_count": null,
      "outputs": [
        {
          "output_type": "execute_result",
          "data": {
            "text/plain": [
              "failure    111\n",
              "success     79\n",
              "other       53\n",
              "Name: Outcome, dtype: int64"
            ]
          },
          "metadata": {},
          "execution_count": 184
        }
      ]
    },
    {
      "cell_type": "code",
      "source": [
        "#filling na\n",
        "insurance['Outcome'].interpolate(method='pad', limit=3, inplace=True)"
      ],
      "metadata": {
        "id": "z4UWp8iRdwf0"
      },
      "execution_count": null,
      "outputs": []
    },
    {
      "cell_type": "code",
      "source": [
        "#filling na\n",
        "insurance['Outcome'].fillna(method='bfill', inplace=True)"
      ],
      "metadata": {
        "id": "m9Vp-aNWepTS"
      },
      "execution_count": null,
      "outputs": []
    },
    {
      "cell_type": "code",
      "source": [
        "#change the type of \"CallStart\" and \"CallEnd\" to datetime\n",
        "for i in ['CallStart', 'CallEnd']:\n",
        "  insurance[i] = pd.to_datetime(insurance[i])"
      ],
      "metadata": {
        "id": "M9d9VcFAhx8q"
      },
      "execution_count": null,
      "outputs": []
    },
    {
      "cell_type": "code",
      "source": [
        "#creating \"callduration\" column by \"callend\" - \"callstart\"\n",
        "insurance['CallDuration'] = insurance['CallEnd'] - insurance['CallStart']"
      ],
      "metadata": {
        "id": "8gwYiE1ZhYbC"
      },
      "execution_count": null,
      "outputs": []
    },
    {
      "cell_type": "code",
      "source": [
        "#unit of callduration is minute\n",
        "insurance.CallDuration = (insurance.CallDuration.dt.seconds) / 60"
      ],
      "metadata": {
        "id": "vJGb8kXoir8y"
      },
      "execution_count": null,
      "outputs": []
    },
    {
      "cell_type": "code",
      "source": [
        "insurance.CallDuration"
      ],
      "metadata": {
        "colab": {
          "base_uri": "https://localhost:8080/"
        },
        "id": "BqGo-02Li8ch",
        "outputId": "6543e035-2302-4405-8b2c-36345707ddc0"
      },
      "execution_count": null,
      "outputs": [
        {
          "output_type": "execute_result",
          "data": {
            "text/plain": [
              "0       0.400000\n",
              "1       0.883333\n",
              "2       1.733333\n",
              "3       4.283333\n",
              "4       2.516667\n",
              "         ...    \n",
              "995     2.516667\n",
              "996     5.216667\n",
              "997     0.966667\n",
              "998     2.300000\n",
              "999    15.250000\n",
              "Name: CallDuration, Length: 1000, dtype: float64"
            ]
          },
          "metadata": {},
          "execution_count": 190
        }
      ]
    },
    {
      "cell_type": "code",
      "source": [
        "#change the name callduration to callduration(min)\n",
        "insurance.rename(columns = {'CallDuration' : 'CallDuration(min)'}, inplace=True)"
      ],
      "metadata": {
        "id": "wWUdKnu5jMNS"
      },
      "execution_count": null,
      "outputs": []
    },
    {
      "cell_type": "code",
      "source": [
        "#all the na filled\n",
        "insurance.info()"
      ],
      "metadata": {
        "colab": {
          "base_uri": "https://localhost:8080/"
        },
        "id": "7LWKVEFtetzK",
        "outputId": "b4d9dece-95fd-4ae2-83b9-d1d6a5336b96"
      },
      "execution_count": null,
      "outputs": [
        {
          "output_type": "stream",
          "name": "stdout",
          "text": [
            "<class 'pandas.core.frame.DataFrame'>\n",
            "RangeIndex: 1000 entries, 0 to 999\n",
            "Data columns (total 21 columns):\n",
            " #   Column             Non-Null Count  Dtype         \n",
            "---  ------             --------------  -----         \n",
            " 0   Id                 1000 non-null   float64       \n",
            " 1   Age                1000 non-null   float64       \n",
            " 2   Job                1000 non-null   object        \n",
            " 3   Marital            1000 non-null   object        \n",
            " 4   Education          1000 non-null   object        \n",
            " 5   Default            1000 non-null   float64       \n",
            " 6   Balance            1000 non-null   float64       \n",
            " 7   HHInsurance        1000 non-null   float64       \n",
            " 8   CarLoan            1000 non-null   float64       \n",
            " 9   Communication      1000 non-null   object        \n",
            " 10  LastContactDay     1000 non-null   float64       \n",
            " 11  LastContactMonth   1000 non-null   object        \n",
            " 12  NoOfContacts       1000 non-null   float64       \n",
            " 13  DaysPassed         1000 non-null   float64       \n",
            " 14  PrevAttempts       1000 non-null   float64       \n",
            " 15  Outcome            1000 non-null   object        \n",
            " 16  CallStart          1000 non-null   datetime64[ns]\n",
            " 17  CallEnd            1000 non-null   datetime64[ns]\n",
            " 18  CarInsurance       1000 non-null   float64       \n",
            " 19  Rating             1000 non-null   float64       \n",
            " 20  CallDuration(min)  1000 non-null   float64       \n",
            "dtypes: datetime64[ns](2), float64(13), object(6)\n",
            "memory usage: 164.2+ KB\n"
          ]
        }
      ]
    },
    {
      "cell_type": "code",
      "source": [
        "#if the value of 'DaysPassed' = -1, then it is replaced with 0\n",
        "insurance.loc[insurance['DaysPassed']<0, 'DaysPassed'] = 0"
      ],
      "metadata": {
        "id": "QB2YTZe2mjDb"
      },
      "execution_count": null,
      "outputs": []
    },
    {
      "cell_type": "code",
      "source": [
        "insurance.DaysPassed"
      ],
      "metadata": {
        "colab": {
          "base_uri": "https://localhost:8080/"
        },
        "id": "7j3OF1Dbmmvl",
        "outputId": "039cab90-298f-4707-9c5a-cb8a010884ec"
      },
      "execution_count": null,
      "outputs": [
        {
          "output_type": "execute_result",
          "data": {
            "text/plain": [
              "0        0.0\n",
              "1        0.0\n",
              "2        0.0\n",
              "3        0.0\n",
              "4        0.0\n",
              "       ...  \n",
              "995      0.0\n",
              "996    108.0\n",
              "997      0.0\n",
              "998      0.0\n",
              "999      0.0\n",
              "Name: DaysPassed, Length: 1000, dtype: float64"
            ]
          },
          "metadata": {},
          "execution_count": 194
        }
      ]
    },
    {
      "cell_type": "code",
      "source": [
        "insurance.head()"
      ],
      "metadata": {
        "colab": {
          "base_uri": "https://localhost:8080/",
          "height": 473
        },
        "id": "28-sjkLe0HxW",
        "outputId": "56337c0f-6448-40a1-8851-dbb17e67c2f9"
      },
      "execution_count": null,
      "outputs": [
        {
          "output_type": "execute_result",
          "data": {
            "text/plain": [
              "       Id   Age         Job  Marital  Education  Default  Balance  \\\n",
              "0  4001.0  25.0      admin.   single  secondary      0.0      1.0   \n",
              "1  4002.0  40.0  management  married   tertiary      0.0      0.0   \n",
              "2  4003.0  44.0  management   single   tertiary      0.0  -1313.0   \n",
              "3  4004.0  27.0    services   single  secondary      0.0   6279.0   \n",
              "4  4005.0  53.0  technician  married  secondary      0.0   7984.0   \n",
              "\n",
              "   HHInsurance  CarLoan Communication  ...  LastContactMonth NoOfContacts  \\\n",
              "0          1.0      1.0         email  ...               may         12.0   \n",
              "1          1.0      1.0          text  ...               jul          1.0   \n",
              "2          1.0      1.0          text  ...               may         10.0   \n",
              "3          1.0      0.0          text  ...               nov          1.0   \n",
              "4          1.0      0.0          text  ...               feb          1.0   \n",
              "\n",
              "   DaysPassed  PrevAttempts  Outcome           CallStart             CallEnd  \\\n",
              "0         0.0           0.0  success 2022-12-12 17:17:42 2022-12-12 17:18:06   \n",
              "1         0.0           0.0  success 2022-12-12 09:13:44 2022-12-12 09:14:37   \n",
              "2         0.0           0.0  success 2022-12-12 15:24:07 2022-12-12 15:25:51   \n",
              "3         0.0           0.0  success 2022-12-12 09:43:44 2022-12-12 09:48:01   \n",
              "4         0.0           0.0  success 2022-12-12 16:31:51 2022-12-12 16:34:22   \n",
              "\n",
              "  CarInsurance  Rating  CallDuration(min)  \n",
              "0          1.0     0.0           0.400000  \n",
              "1          1.0     2.0           0.883333  \n",
              "2          0.0     3.0           1.733333  \n",
              "3          0.0     2.0           4.283333  \n",
              "4          0.0     5.0           2.516667  \n",
              "\n",
              "[5 rows x 21 columns]"
            ],
            "text/html": [
              "\n",
              "  <div id=\"df-36de31ce-7cb6-4246-8946-7a58f469432e\">\n",
              "    <div class=\"colab-df-container\">\n",
              "      <div>\n",
              "<style scoped>\n",
              "    .dataframe tbody tr th:only-of-type {\n",
              "        vertical-align: middle;\n",
              "    }\n",
              "\n",
              "    .dataframe tbody tr th {\n",
              "        vertical-align: top;\n",
              "    }\n",
              "\n",
              "    .dataframe thead th {\n",
              "        text-align: right;\n",
              "    }\n",
              "</style>\n",
              "<table border=\"1\" class=\"dataframe\">\n",
              "  <thead>\n",
              "    <tr style=\"text-align: right;\">\n",
              "      <th></th>\n",
              "      <th>Id</th>\n",
              "      <th>Age</th>\n",
              "      <th>Job</th>\n",
              "      <th>Marital</th>\n",
              "      <th>Education</th>\n",
              "      <th>Default</th>\n",
              "      <th>Balance</th>\n",
              "      <th>HHInsurance</th>\n",
              "      <th>CarLoan</th>\n",
              "      <th>Communication</th>\n",
              "      <th>...</th>\n",
              "      <th>LastContactMonth</th>\n",
              "      <th>NoOfContacts</th>\n",
              "      <th>DaysPassed</th>\n",
              "      <th>PrevAttempts</th>\n",
              "      <th>Outcome</th>\n",
              "      <th>CallStart</th>\n",
              "      <th>CallEnd</th>\n",
              "      <th>CarInsurance</th>\n",
              "      <th>Rating</th>\n",
              "      <th>CallDuration(min)</th>\n",
              "    </tr>\n",
              "  </thead>\n",
              "  <tbody>\n",
              "    <tr>\n",
              "      <th>0</th>\n",
              "      <td>4001.0</td>\n",
              "      <td>25.0</td>\n",
              "      <td>admin.</td>\n",
              "      <td>single</td>\n",
              "      <td>secondary</td>\n",
              "      <td>0.0</td>\n",
              "      <td>1.0</td>\n",
              "      <td>1.0</td>\n",
              "      <td>1.0</td>\n",
              "      <td>email</td>\n",
              "      <td>...</td>\n",
              "      <td>may</td>\n",
              "      <td>12.0</td>\n",
              "      <td>0.0</td>\n",
              "      <td>0.0</td>\n",
              "      <td>success</td>\n",
              "      <td>2022-12-12 17:17:42</td>\n",
              "      <td>2022-12-12 17:18:06</td>\n",
              "      <td>1.0</td>\n",
              "      <td>0.0</td>\n",
              "      <td>0.400000</td>\n",
              "    </tr>\n",
              "    <tr>\n",
              "      <th>1</th>\n",
              "      <td>4002.0</td>\n",
              "      <td>40.0</td>\n",
              "      <td>management</td>\n",
              "      <td>married</td>\n",
              "      <td>tertiary</td>\n",
              "      <td>0.0</td>\n",
              "      <td>0.0</td>\n",
              "      <td>1.0</td>\n",
              "      <td>1.0</td>\n",
              "      <td>text</td>\n",
              "      <td>...</td>\n",
              "      <td>jul</td>\n",
              "      <td>1.0</td>\n",
              "      <td>0.0</td>\n",
              "      <td>0.0</td>\n",
              "      <td>success</td>\n",
              "      <td>2022-12-12 09:13:44</td>\n",
              "      <td>2022-12-12 09:14:37</td>\n",
              "      <td>1.0</td>\n",
              "      <td>2.0</td>\n",
              "      <td>0.883333</td>\n",
              "    </tr>\n",
              "    <tr>\n",
              "      <th>2</th>\n",
              "      <td>4003.0</td>\n",
              "      <td>44.0</td>\n",
              "      <td>management</td>\n",
              "      <td>single</td>\n",
              "      <td>tertiary</td>\n",
              "      <td>0.0</td>\n",
              "      <td>-1313.0</td>\n",
              "      <td>1.0</td>\n",
              "      <td>1.0</td>\n",
              "      <td>text</td>\n",
              "      <td>...</td>\n",
              "      <td>may</td>\n",
              "      <td>10.0</td>\n",
              "      <td>0.0</td>\n",
              "      <td>0.0</td>\n",
              "      <td>success</td>\n",
              "      <td>2022-12-12 15:24:07</td>\n",
              "      <td>2022-12-12 15:25:51</td>\n",
              "      <td>0.0</td>\n",
              "      <td>3.0</td>\n",
              "      <td>1.733333</td>\n",
              "    </tr>\n",
              "    <tr>\n",
              "      <th>3</th>\n",
              "      <td>4004.0</td>\n",
              "      <td>27.0</td>\n",
              "      <td>services</td>\n",
              "      <td>single</td>\n",
              "      <td>secondary</td>\n",
              "      <td>0.0</td>\n",
              "      <td>6279.0</td>\n",
              "      <td>1.0</td>\n",
              "      <td>0.0</td>\n",
              "      <td>text</td>\n",
              "      <td>...</td>\n",
              "      <td>nov</td>\n",
              "      <td>1.0</td>\n",
              "      <td>0.0</td>\n",
              "      <td>0.0</td>\n",
              "      <td>success</td>\n",
              "      <td>2022-12-12 09:43:44</td>\n",
              "      <td>2022-12-12 09:48:01</td>\n",
              "      <td>0.0</td>\n",
              "      <td>2.0</td>\n",
              "      <td>4.283333</td>\n",
              "    </tr>\n",
              "    <tr>\n",
              "      <th>4</th>\n",
              "      <td>4005.0</td>\n",
              "      <td>53.0</td>\n",
              "      <td>technician</td>\n",
              "      <td>married</td>\n",
              "      <td>secondary</td>\n",
              "      <td>0.0</td>\n",
              "      <td>7984.0</td>\n",
              "      <td>1.0</td>\n",
              "      <td>0.0</td>\n",
              "      <td>text</td>\n",
              "      <td>...</td>\n",
              "      <td>feb</td>\n",
              "      <td>1.0</td>\n",
              "      <td>0.0</td>\n",
              "      <td>0.0</td>\n",
              "      <td>success</td>\n",
              "      <td>2022-12-12 16:31:51</td>\n",
              "      <td>2022-12-12 16:34:22</td>\n",
              "      <td>0.0</td>\n",
              "      <td>5.0</td>\n",
              "      <td>2.516667</td>\n",
              "    </tr>\n",
              "  </tbody>\n",
              "</table>\n",
              "<p>5 rows × 21 columns</p>\n",
              "</div>\n",
              "      <button class=\"colab-df-convert\" onclick=\"convertToInteractive('df-36de31ce-7cb6-4246-8946-7a58f469432e')\"\n",
              "              title=\"Convert this dataframe to an interactive table.\"\n",
              "              style=\"display:none;\">\n",
              "        \n",
              "  <svg xmlns=\"http://www.w3.org/2000/svg\" height=\"24px\"viewBox=\"0 0 24 24\"\n",
              "       width=\"24px\">\n",
              "    <path d=\"M0 0h24v24H0V0z\" fill=\"none\"/>\n",
              "    <path d=\"M18.56 5.44l.94 2.06.94-2.06 2.06-.94-2.06-.94-.94-2.06-.94 2.06-2.06.94zm-11 1L8.5 8.5l.94-2.06 2.06-.94-2.06-.94L8.5 2.5l-.94 2.06-2.06.94zm10 10l.94 2.06.94-2.06 2.06-.94-2.06-.94-.94-2.06-.94 2.06-2.06.94z\"/><path d=\"M17.41 7.96l-1.37-1.37c-.4-.4-.92-.59-1.43-.59-.52 0-1.04.2-1.43.59L10.3 9.45l-7.72 7.72c-.78.78-.78 2.05 0 2.83L4 21.41c.39.39.9.59 1.41.59.51 0 1.02-.2 1.41-.59l7.78-7.78 2.81-2.81c.8-.78.8-2.07 0-2.86zM5.41 20L4 18.59l7.72-7.72 1.47 1.35L5.41 20z\"/>\n",
              "  </svg>\n",
              "      </button>\n",
              "      \n",
              "  <style>\n",
              "    .colab-df-container {\n",
              "      display:flex;\n",
              "      flex-wrap:wrap;\n",
              "      gap: 12px;\n",
              "    }\n",
              "\n",
              "    .colab-df-convert {\n",
              "      background-color: #E8F0FE;\n",
              "      border: none;\n",
              "      border-radius: 50%;\n",
              "      cursor: pointer;\n",
              "      display: none;\n",
              "      fill: #1967D2;\n",
              "      height: 32px;\n",
              "      padding: 0 0 0 0;\n",
              "      width: 32px;\n",
              "    }\n",
              "\n",
              "    .colab-df-convert:hover {\n",
              "      background-color: #E2EBFA;\n",
              "      box-shadow: 0px 1px 2px rgba(60, 64, 67, 0.3), 0px 1px 3px 1px rgba(60, 64, 67, 0.15);\n",
              "      fill: #174EA6;\n",
              "    }\n",
              "\n",
              "    [theme=dark] .colab-df-convert {\n",
              "      background-color: #3B4455;\n",
              "      fill: #D2E3FC;\n",
              "    }\n",
              "\n",
              "    [theme=dark] .colab-df-convert:hover {\n",
              "      background-color: #434B5C;\n",
              "      box-shadow: 0px 1px 3px 1px rgba(0, 0, 0, 0.15);\n",
              "      filter: drop-shadow(0px 1px 2px rgba(0, 0, 0, 0.3));\n",
              "      fill: #FFFFFF;\n",
              "    }\n",
              "  </style>\n",
              "\n",
              "      <script>\n",
              "        const buttonEl =\n",
              "          document.querySelector('#df-36de31ce-7cb6-4246-8946-7a58f469432e button.colab-df-convert');\n",
              "        buttonEl.style.display =\n",
              "          google.colab.kernel.accessAllowed ? 'block' : 'none';\n",
              "\n",
              "        async function convertToInteractive(key) {\n",
              "          const element = document.querySelector('#df-36de31ce-7cb6-4246-8946-7a58f469432e');\n",
              "          const dataTable =\n",
              "            await google.colab.kernel.invokeFunction('convertToInteractive',\n",
              "                                                     [key], {});\n",
              "          if (!dataTable) return;\n",
              "\n",
              "          const docLinkHtml = 'Like what you see? Visit the ' +\n",
              "            '<a target=\"_blank\" href=https://colab.research.google.com/notebooks/data_table.ipynb>data table notebook</a>'\n",
              "            + ' to learn more about interactive tables.';\n",
              "          element.innerHTML = '';\n",
              "          dataTable['output_type'] = 'display_data';\n",
              "          await google.colab.output.renderOutput(dataTable, element);\n",
              "          const docLink = document.createElement('div');\n",
              "          docLink.innerHTML = docLinkHtml;\n",
              "          element.appendChild(docLink);\n",
              "        }\n",
              "      </script>\n",
              "    </div>\n",
              "  </div>\n",
              "  "
            ]
          },
          "metadata": {},
          "execution_count": 195
        }
      ]
    },
    {
      "cell_type": "code",
      "source": [
        "insurance.columns"
      ],
      "metadata": {
        "colab": {
          "base_uri": "https://localhost:8080/"
        },
        "id": "bF3kvQ1n0Sx8",
        "outputId": "2535bda9-54b7-44c3-e5b7-b168bcc962f6"
      },
      "execution_count": null,
      "outputs": [
        {
          "output_type": "execute_result",
          "data": {
            "text/plain": [
              "Index(['Id', 'Age', 'Job', 'Marital', 'Education', 'Default', 'Balance',\n",
              "       'HHInsurance', 'CarLoan', 'Communication', 'LastContactDay',\n",
              "       'LastContactMonth', 'NoOfContacts', 'DaysPassed', 'PrevAttempts',\n",
              "       'Outcome', 'CallStart', 'CallEnd', 'CarInsurance', 'Rating',\n",
              "       'CallDuration(min)'],\n",
              "      dtype='object')"
            ]
          },
          "metadata": {},
          "execution_count": 196
        }
      ]
    },
    {
      "cell_type": "markdown",
      "source": [
        "### ***OBJECTIVE 1***  \n",
        "Use statistics method(s) (e.g. mean, mode, median) to extract average customer information who bought the insurance / sales information"
      ],
      "metadata": {
        "id": "k8P99Y0AdGuh"
      }
    },
    {
      "cell_type": "code",
      "source": [
        "#calculate mean of 'Age', 'NoOfContacts', 'Balance', 'DaysPassed', 'CallDuration(min)' for each 'CarInsurance'\n",
        "insurance.groupby(['CarInsurance']).mean().loc[:,['Age', 'NoOfContacts', 'Balance', 'DaysPassed', 'CallDuration(min)']]"
      ],
      "metadata": {
        "id": "Sfj5ZZBD0VZ6",
        "colab": {
          "base_uri": "https://localhost:8080/"
        },
        "outputId": "30913fe6-8e5e-4c00-9367-508ad49bac8a"
      },
      "execution_count": null,
      "outputs": [
        {
          "output_type": "execute_result",
          "data": {
            "text/plain": [
              "                    Age  NoOfContacts      Balance  DaysPassed  \\\n",
              "CarInsurance                                                     \n",
              "0.0           41.448166      2.395534  1411.985646   51.175439   \n",
              "1.0           41.514745      2.697051  1375.289544   54.485255   \n",
              "\n",
              "              CallDuration(min)  \n",
              "CarInsurance                     \n",
              "0.0                    5.556486  \n",
              "1.0                    6.109205  "
            ],
            "text/html": [
              "\n",
              "  <div id=\"df-e27d2aa2-131c-491d-b3bc-4127d4b47776\">\n",
              "    <div class=\"colab-df-container\">\n",
              "      <div>\n",
              "<style scoped>\n",
              "    .dataframe tbody tr th:only-of-type {\n",
              "        vertical-align: middle;\n",
              "    }\n",
              "\n",
              "    .dataframe tbody tr th {\n",
              "        vertical-align: top;\n",
              "    }\n",
              "\n",
              "    .dataframe thead th {\n",
              "        text-align: right;\n",
              "    }\n",
              "</style>\n",
              "<table border=\"1\" class=\"dataframe\">\n",
              "  <thead>\n",
              "    <tr style=\"text-align: right;\">\n",
              "      <th></th>\n",
              "      <th>Age</th>\n",
              "      <th>NoOfContacts</th>\n",
              "      <th>Balance</th>\n",
              "      <th>DaysPassed</th>\n",
              "      <th>CallDuration(min)</th>\n",
              "    </tr>\n",
              "    <tr>\n",
              "      <th>CarInsurance</th>\n",
              "      <th></th>\n",
              "      <th></th>\n",
              "      <th></th>\n",
              "      <th></th>\n",
              "      <th></th>\n",
              "    </tr>\n",
              "  </thead>\n",
              "  <tbody>\n",
              "    <tr>\n",
              "      <th>0.0</th>\n",
              "      <td>41.448166</td>\n",
              "      <td>2.395534</td>\n",
              "      <td>1411.985646</td>\n",
              "      <td>51.175439</td>\n",
              "      <td>5.556486</td>\n",
              "    </tr>\n",
              "    <tr>\n",
              "      <th>1.0</th>\n",
              "      <td>41.514745</td>\n",
              "      <td>2.697051</td>\n",
              "      <td>1375.289544</td>\n",
              "      <td>54.485255</td>\n",
              "      <td>6.109205</td>\n",
              "    </tr>\n",
              "  </tbody>\n",
              "</table>\n",
              "</div>\n",
              "      <button class=\"colab-df-convert\" onclick=\"convertToInteractive('df-e27d2aa2-131c-491d-b3bc-4127d4b47776')\"\n",
              "              title=\"Convert this dataframe to an interactive table.\"\n",
              "              style=\"display:none;\">\n",
              "        \n",
              "  <svg xmlns=\"http://www.w3.org/2000/svg\" height=\"24px\"viewBox=\"0 0 24 24\"\n",
              "       width=\"24px\">\n",
              "    <path d=\"M0 0h24v24H0V0z\" fill=\"none\"/>\n",
              "    <path d=\"M18.56 5.44l.94 2.06.94-2.06 2.06-.94-2.06-.94-.94-2.06-.94 2.06-2.06.94zm-11 1L8.5 8.5l.94-2.06 2.06-.94-2.06-.94L8.5 2.5l-.94 2.06-2.06.94zm10 10l.94 2.06.94-2.06 2.06-.94-2.06-.94-.94-2.06-.94 2.06-2.06.94z\"/><path d=\"M17.41 7.96l-1.37-1.37c-.4-.4-.92-.59-1.43-.59-.52 0-1.04.2-1.43.59L10.3 9.45l-7.72 7.72c-.78.78-.78 2.05 0 2.83L4 21.41c.39.39.9.59 1.41.59.51 0 1.02-.2 1.41-.59l7.78-7.78 2.81-2.81c.8-.78.8-2.07 0-2.86zM5.41 20L4 18.59l7.72-7.72 1.47 1.35L5.41 20z\"/>\n",
              "  </svg>\n",
              "      </button>\n",
              "      \n",
              "  <style>\n",
              "    .colab-df-container {\n",
              "      display:flex;\n",
              "      flex-wrap:wrap;\n",
              "      gap: 12px;\n",
              "    }\n",
              "\n",
              "    .colab-df-convert {\n",
              "      background-color: #E8F0FE;\n",
              "      border: none;\n",
              "      border-radius: 50%;\n",
              "      cursor: pointer;\n",
              "      display: none;\n",
              "      fill: #1967D2;\n",
              "      height: 32px;\n",
              "      padding: 0 0 0 0;\n",
              "      width: 32px;\n",
              "    }\n",
              "\n",
              "    .colab-df-convert:hover {\n",
              "      background-color: #E2EBFA;\n",
              "      box-shadow: 0px 1px 2px rgba(60, 64, 67, 0.3), 0px 1px 3px 1px rgba(60, 64, 67, 0.15);\n",
              "      fill: #174EA6;\n",
              "    }\n",
              "\n",
              "    [theme=dark] .colab-df-convert {\n",
              "      background-color: #3B4455;\n",
              "      fill: #D2E3FC;\n",
              "    }\n",
              "\n",
              "    [theme=dark] .colab-df-convert:hover {\n",
              "      background-color: #434B5C;\n",
              "      box-shadow: 0px 1px 3px 1px rgba(0, 0, 0, 0.15);\n",
              "      filter: drop-shadow(0px 1px 2px rgba(0, 0, 0, 0.3));\n",
              "      fill: #FFFFFF;\n",
              "    }\n",
              "  </style>\n",
              "\n",
              "      <script>\n",
              "        const buttonEl =\n",
              "          document.querySelector('#df-e27d2aa2-131c-491d-b3bc-4127d4b47776 button.colab-df-convert');\n",
              "        buttonEl.style.display =\n",
              "          google.colab.kernel.accessAllowed ? 'block' : 'none';\n",
              "\n",
              "        async function convertToInteractive(key) {\n",
              "          const element = document.querySelector('#df-e27d2aa2-131c-491d-b3bc-4127d4b47776');\n",
              "          const dataTable =\n",
              "            await google.colab.kernel.invokeFunction('convertToInteractive',\n",
              "                                                     [key], {});\n",
              "          if (!dataTable) return;\n",
              "\n",
              "          const docLinkHtml = 'Like what you see? Visit the ' +\n",
              "            '<a target=\"_blank\" href=https://colab.research.google.com/notebooks/data_table.ipynb>data table notebook</a>'\n",
              "            + ' to learn more about interactive tables.';\n",
              "          element.innerHTML = '';\n",
              "          dataTable['output_type'] = 'display_data';\n",
              "          await google.colab.output.renderOutput(dataTable, element);\n",
              "          const docLink = document.createElement('div');\n",
              "          docLink.innerHTML = docLinkHtml;\n",
              "          element.appendChild(docLink);\n",
              "        }\n",
              "      </script>\n",
              "    </div>\n",
              "  </div>\n",
              "  "
            ]
          },
          "metadata": {},
          "execution_count": 197
        }
      ]
    },
    {
      "cell_type": "code",
      "source": [
        "#calculate median of 'Age', 'NoOfContacts', 'Balance', 'DaysPassed', 'CallDuration(min)' for each 'CarInsurance'\n",
        "insurance.groupby(['CarInsurance']).median().loc[:,['Age', 'NoOfContacts', 'Balance', 'DaysPassed', 'CallDuration(min)']]"
      ],
      "metadata": {
        "colab": {
          "base_uri": "https://localhost:8080/"
        },
        "id": "HE2PTPEk2AVv",
        "outputId": "170e4a89-d607-4f13-f65d-59025f06beef"
      },
      "execution_count": null,
      "outputs": [
        {
          "output_type": "execute_result",
          "data": {
            "text/plain": [
              "               Age  NoOfContacts  Balance  DaysPassed  CallDuration(min)\n",
              "CarInsurance                                                            \n",
              "0.0           39.0           2.0    529.0         0.0           3.833333\n",
              "1.0           39.0           2.0    496.0         0.0           3.966667"
            ],
            "text/html": [
              "\n",
              "  <div id=\"df-53884a02-3144-44fe-a096-2ab0200c0947\">\n",
              "    <div class=\"colab-df-container\">\n",
              "      <div>\n",
              "<style scoped>\n",
              "    .dataframe tbody tr th:only-of-type {\n",
              "        vertical-align: middle;\n",
              "    }\n",
              "\n",
              "    .dataframe tbody tr th {\n",
              "        vertical-align: top;\n",
              "    }\n",
              "\n",
              "    .dataframe thead th {\n",
              "        text-align: right;\n",
              "    }\n",
              "</style>\n",
              "<table border=\"1\" class=\"dataframe\">\n",
              "  <thead>\n",
              "    <tr style=\"text-align: right;\">\n",
              "      <th></th>\n",
              "      <th>Age</th>\n",
              "      <th>NoOfContacts</th>\n",
              "      <th>Balance</th>\n",
              "      <th>DaysPassed</th>\n",
              "      <th>CallDuration(min)</th>\n",
              "    </tr>\n",
              "    <tr>\n",
              "      <th>CarInsurance</th>\n",
              "      <th></th>\n",
              "      <th></th>\n",
              "      <th></th>\n",
              "      <th></th>\n",
              "      <th></th>\n",
              "    </tr>\n",
              "  </thead>\n",
              "  <tbody>\n",
              "    <tr>\n",
              "      <th>0.0</th>\n",
              "      <td>39.0</td>\n",
              "      <td>2.0</td>\n",
              "      <td>529.0</td>\n",
              "      <td>0.0</td>\n",
              "      <td>3.833333</td>\n",
              "    </tr>\n",
              "    <tr>\n",
              "      <th>1.0</th>\n",
              "      <td>39.0</td>\n",
              "      <td>2.0</td>\n",
              "      <td>496.0</td>\n",
              "      <td>0.0</td>\n",
              "      <td>3.966667</td>\n",
              "    </tr>\n",
              "  </tbody>\n",
              "</table>\n",
              "</div>\n",
              "      <button class=\"colab-df-convert\" onclick=\"convertToInteractive('df-53884a02-3144-44fe-a096-2ab0200c0947')\"\n",
              "              title=\"Convert this dataframe to an interactive table.\"\n",
              "              style=\"display:none;\">\n",
              "        \n",
              "  <svg xmlns=\"http://www.w3.org/2000/svg\" height=\"24px\"viewBox=\"0 0 24 24\"\n",
              "       width=\"24px\">\n",
              "    <path d=\"M0 0h24v24H0V0z\" fill=\"none\"/>\n",
              "    <path d=\"M18.56 5.44l.94 2.06.94-2.06 2.06-.94-2.06-.94-.94-2.06-.94 2.06-2.06.94zm-11 1L8.5 8.5l.94-2.06 2.06-.94-2.06-.94L8.5 2.5l-.94 2.06-2.06.94zm10 10l.94 2.06.94-2.06 2.06-.94-2.06-.94-.94-2.06-.94 2.06-2.06.94z\"/><path d=\"M17.41 7.96l-1.37-1.37c-.4-.4-.92-.59-1.43-.59-.52 0-1.04.2-1.43.59L10.3 9.45l-7.72 7.72c-.78.78-.78 2.05 0 2.83L4 21.41c.39.39.9.59 1.41.59.51 0 1.02-.2 1.41-.59l7.78-7.78 2.81-2.81c.8-.78.8-2.07 0-2.86zM5.41 20L4 18.59l7.72-7.72 1.47 1.35L5.41 20z\"/>\n",
              "  </svg>\n",
              "      </button>\n",
              "      \n",
              "  <style>\n",
              "    .colab-df-container {\n",
              "      display:flex;\n",
              "      flex-wrap:wrap;\n",
              "      gap: 12px;\n",
              "    }\n",
              "\n",
              "    .colab-df-convert {\n",
              "      background-color: #E8F0FE;\n",
              "      border: none;\n",
              "      border-radius: 50%;\n",
              "      cursor: pointer;\n",
              "      display: none;\n",
              "      fill: #1967D2;\n",
              "      height: 32px;\n",
              "      padding: 0 0 0 0;\n",
              "      width: 32px;\n",
              "    }\n",
              "\n",
              "    .colab-df-convert:hover {\n",
              "      background-color: #E2EBFA;\n",
              "      box-shadow: 0px 1px 2px rgba(60, 64, 67, 0.3), 0px 1px 3px 1px rgba(60, 64, 67, 0.15);\n",
              "      fill: #174EA6;\n",
              "    }\n",
              "\n",
              "    [theme=dark] .colab-df-convert {\n",
              "      background-color: #3B4455;\n",
              "      fill: #D2E3FC;\n",
              "    }\n",
              "\n",
              "    [theme=dark] .colab-df-convert:hover {\n",
              "      background-color: #434B5C;\n",
              "      box-shadow: 0px 1px 3px 1px rgba(0, 0, 0, 0.15);\n",
              "      filter: drop-shadow(0px 1px 2px rgba(0, 0, 0, 0.3));\n",
              "      fill: #FFFFFF;\n",
              "    }\n",
              "  </style>\n",
              "\n",
              "      <script>\n",
              "        const buttonEl =\n",
              "          document.querySelector('#df-53884a02-3144-44fe-a096-2ab0200c0947 button.colab-df-convert');\n",
              "        buttonEl.style.display =\n",
              "          google.colab.kernel.accessAllowed ? 'block' : 'none';\n",
              "\n",
              "        async function convertToInteractive(key) {\n",
              "          const element = document.querySelector('#df-53884a02-3144-44fe-a096-2ab0200c0947');\n",
              "          const dataTable =\n",
              "            await google.colab.kernel.invokeFunction('convertToInteractive',\n",
              "                                                     [key], {});\n",
              "          if (!dataTable) return;\n",
              "\n",
              "          const docLinkHtml = 'Like what you see? Visit the ' +\n",
              "            '<a target=\"_blank\" href=https://colab.research.google.com/notebooks/data_table.ipynb>data table notebook</a>'\n",
              "            + ' to learn more about interactive tables.';\n",
              "          element.innerHTML = '';\n",
              "          dataTable['output_type'] = 'display_data';\n",
              "          await google.colab.output.renderOutput(dataTable, element);\n",
              "          const docLink = document.createElement('div');\n",
              "          docLink.innerHTML = docLinkHtml;\n",
              "          element.appendChild(docLink);\n",
              "        }\n",
              "      </script>\n",
              "    </div>\n",
              "  </div>\n",
              "  "
            ]
          },
          "metadata": {},
          "execution_count": 198
        }
      ]
    },
    {
      "cell_type": "code",
      "source": [
        "#calculate mode of 'Age', 'NoOfContacts', 'Balance', 'DaysPassed', 'CallDuration(min)' for each 'CarInsurance'\n",
        "insurance.groupby(['CarInsurance']).agg(lambda x:x.value_counts().index[0]).loc[:,['Age', 'NoOfContacts', 'Balance', 'DaysPassed', 'CallDuration(min)']]"
      ],
      "metadata": {
        "id": "z90FbChi2Fsh",
        "colab": {
          "base_uri": "https://localhost:8080/"
        },
        "outputId": "4e26a80d-bff4-4678-be53-bc5749c7f475"
      },
      "execution_count": null,
      "outputs": [
        {
          "output_type": "execute_result",
          "data": {
            "text/plain": [
              "               Age  NoOfContacts  Balance  DaysPassed  CallDuration(min)\n",
              "CarInsurance                                                            \n",
              "0.0           33.0           1.0      0.0         0.0           2.633333\n",
              "1.0           33.0           1.0      0.0         0.0           2.316667"
            ],
            "text/html": [
              "\n",
              "  <div id=\"df-4fb37e5d-ad78-4dab-9727-449f5cae514e\">\n",
              "    <div class=\"colab-df-container\">\n",
              "      <div>\n",
              "<style scoped>\n",
              "    .dataframe tbody tr th:only-of-type {\n",
              "        vertical-align: middle;\n",
              "    }\n",
              "\n",
              "    .dataframe tbody tr th {\n",
              "        vertical-align: top;\n",
              "    }\n",
              "\n",
              "    .dataframe thead th {\n",
              "        text-align: right;\n",
              "    }\n",
              "</style>\n",
              "<table border=\"1\" class=\"dataframe\">\n",
              "  <thead>\n",
              "    <tr style=\"text-align: right;\">\n",
              "      <th></th>\n",
              "      <th>Age</th>\n",
              "      <th>NoOfContacts</th>\n",
              "      <th>Balance</th>\n",
              "      <th>DaysPassed</th>\n",
              "      <th>CallDuration(min)</th>\n",
              "    </tr>\n",
              "    <tr>\n",
              "      <th>CarInsurance</th>\n",
              "      <th></th>\n",
              "      <th></th>\n",
              "      <th></th>\n",
              "      <th></th>\n",
              "      <th></th>\n",
              "    </tr>\n",
              "  </thead>\n",
              "  <tbody>\n",
              "    <tr>\n",
              "      <th>0.0</th>\n",
              "      <td>33.0</td>\n",
              "      <td>1.0</td>\n",
              "      <td>0.0</td>\n",
              "      <td>0.0</td>\n",
              "      <td>2.633333</td>\n",
              "    </tr>\n",
              "    <tr>\n",
              "      <th>1.0</th>\n",
              "      <td>33.0</td>\n",
              "      <td>1.0</td>\n",
              "      <td>0.0</td>\n",
              "      <td>0.0</td>\n",
              "      <td>2.316667</td>\n",
              "    </tr>\n",
              "  </tbody>\n",
              "</table>\n",
              "</div>\n",
              "      <button class=\"colab-df-convert\" onclick=\"convertToInteractive('df-4fb37e5d-ad78-4dab-9727-449f5cae514e')\"\n",
              "              title=\"Convert this dataframe to an interactive table.\"\n",
              "              style=\"display:none;\">\n",
              "        \n",
              "  <svg xmlns=\"http://www.w3.org/2000/svg\" height=\"24px\"viewBox=\"0 0 24 24\"\n",
              "       width=\"24px\">\n",
              "    <path d=\"M0 0h24v24H0V0z\" fill=\"none\"/>\n",
              "    <path d=\"M18.56 5.44l.94 2.06.94-2.06 2.06-.94-2.06-.94-.94-2.06-.94 2.06-2.06.94zm-11 1L8.5 8.5l.94-2.06 2.06-.94-2.06-.94L8.5 2.5l-.94 2.06-2.06.94zm10 10l.94 2.06.94-2.06 2.06-.94-2.06-.94-.94-2.06-.94 2.06-2.06.94z\"/><path d=\"M17.41 7.96l-1.37-1.37c-.4-.4-.92-.59-1.43-.59-.52 0-1.04.2-1.43.59L10.3 9.45l-7.72 7.72c-.78.78-.78 2.05 0 2.83L4 21.41c.39.39.9.59 1.41.59.51 0 1.02-.2 1.41-.59l7.78-7.78 2.81-2.81c.8-.78.8-2.07 0-2.86zM5.41 20L4 18.59l7.72-7.72 1.47 1.35L5.41 20z\"/>\n",
              "  </svg>\n",
              "      </button>\n",
              "      \n",
              "  <style>\n",
              "    .colab-df-container {\n",
              "      display:flex;\n",
              "      flex-wrap:wrap;\n",
              "      gap: 12px;\n",
              "    }\n",
              "\n",
              "    .colab-df-convert {\n",
              "      background-color: #E8F0FE;\n",
              "      border: none;\n",
              "      border-radius: 50%;\n",
              "      cursor: pointer;\n",
              "      display: none;\n",
              "      fill: #1967D2;\n",
              "      height: 32px;\n",
              "      padding: 0 0 0 0;\n",
              "      width: 32px;\n",
              "    }\n",
              "\n",
              "    .colab-df-convert:hover {\n",
              "      background-color: #E2EBFA;\n",
              "      box-shadow: 0px 1px 2px rgba(60, 64, 67, 0.3), 0px 1px 3px 1px rgba(60, 64, 67, 0.15);\n",
              "      fill: #174EA6;\n",
              "    }\n",
              "\n",
              "    [theme=dark] .colab-df-convert {\n",
              "      background-color: #3B4455;\n",
              "      fill: #D2E3FC;\n",
              "    }\n",
              "\n",
              "    [theme=dark] .colab-df-convert:hover {\n",
              "      background-color: #434B5C;\n",
              "      box-shadow: 0px 1px 3px 1px rgba(0, 0, 0, 0.15);\n",
              "      filter: drop-shadow(0px 1px 2px rgba(0, 0, 0, 0.3));\n",
              "      fill: #FFFFFF;\n",
              "    }\n",
              "  </style>\n",
              "\n",
              "      <script>\n",
              "        const buttonEl =\n",
              "          document.querySelector('#df-4fb37e5d-ad78-4dab-9727-449f5cae514e button.colab-df-convert');\n",
              "        buttonEl.style.display =\n",
              "          google.colab.kernel.accessAllowed ? 'block' : 'none';\n",
              "\n",
              "        async function convertToInteractive(key) {\n",
              "          const element = document.querySelector('#df-4fb37e5d-ad78-4dab-9727-449f5cae514e');\n",
              "          const dataTable =\n",
              "            await google.colab.kernel.invokeFunction('convertToInteractive',\n",
              "                                                     [key], {});\n",
              "          if (!dataTable) return;\n",
              "\n",
              "          const docLinkHtml = 'Like what you see? Visit the ' +\n",
              "            '<a target=\"_blank\" href=https://colab.research.google.com/notebooks/data_table.ipynb>data table notebook</a>'\n",
              "            + ' to learn more about interactive tables.';\n",
              "          element.innerHTML = '';\n",
              "          dataTable['output_type'] = 'display_data';\n",
              "          await google.colab.output.renderOutput(dataTable, element);\n",
              "          const docLink = document.createElement('div');\n",
              "          docLink.innerHTML = docLinkHtml;\n",
              "          element.appendChild(docLink);\n",
              "        }\n",
              "      </script>\n",
              "    </div>\n",
              "  </div>\n",
              "  "
            ]
          },
          "metadata": {},
          "execution_count": 199
        }
      ]
    },
    {
      "cell_type": "code",
      "source": [
        "#data manipulation : for row x, if the value of carinsurance is not 0, then its rating is 5\n",
        "for i in range(len(insurance)):\n",
        "  if (insurance.loc[i, \"CarInsurance\"] == 0):\n",
        "    pass\n",
        "  else:\n",
        "    insurance.loc[i,\"Rating\"] = 5"
      ],
      "metadata": {
        "id": "r2uZDbq3ca5L"
      },
      "execution_count": null,
      "outputs": []
    },
    {
      "cell_type": "code",
      "source": [
        "insurance.Rating.value_counts()[0]"
      ],
      "metadata": {
        "colab": {
          "base_uri": "https://localhost:8080/"
        },
        "id": "nLRi3Kh6f7l9",
        "outputId": "647154af-ea0a-402e-8bfc-8f30baa89b44"
      },
      "execution_count": null,
      "outputs": [
        {
          "output_type": "execute_result",
          "data": {
            "text/plain": [
              "52"
            ]
          },
          "metadata": {},
          "execution_count": 201
        }
      ]
    },
    {
      "cell_type": "code",
      "source": [
        "insurance.Rating.replace({0 : 0, 1 : 0, 2 : 0, 3 : 0, 4 : 1, 5 : 1}, inplace=True) #rating : [0,1,2,3] = 0, [4,5] = 1"
      ],
      "metadata": {
        "id": "hdhDgy5bc-60"
      },
      "execution_count": null,
      "outputs": []
    },
    {
      "cell_type": "code",
      "source": [
        "insurance.Rating.value_counts()"
      ],
      "metadata": {
        "colab": {
          "base_uri": "https://localhost:8080/"
        },
        "id": "Ud0YT1Prn1oL",
        "outputId": "e7da7365-ad98-423f-89d0-a41e3bdd698a"
      },
      "execution_count": null,
      "outputs": [
        {
          "output_type": "execute_result",
          "data": {
            "text/plain": [
              "1.0    517\n",
              "0.0    483\n",
              "Name: Rating, dtype: int64"
            ]
          },
          "metadata": {},
          "execution_count": 203
        }
      ]
    },
    {
      "cell_type": "code",
      "source": [
        "insurance.Communication.replace({'text' : 0, 'email' : 1, 'telephone' : 2}, inplace=True) #mapping"
      ],
      "metadata": {
        "id": "uIDUx3-bdE6R"
      },
      "execution_count": null,
      "outputs": []
    },
    {
      "cell_type": "markdown",
      "source": [
        "### ***OBJECTIVE 2***  \n",
        "Correlation Analysis using Heatmap"
      ],
      "metadata": {
        "id": "LK59hE23wfGU"
      }
    },
    {
      "cell_type": "code",
      "source": [
        "import scipy.stats\n",
        "#determine which factors (Age, NoOfContacts, Balance, DaysPassed, CallDuration(min)) are correlated with CarInsurance ; if p<0.05, correlation is signifcantly correlated, else correlation is not significant\n",
        "\n",
        "\n",
        "#Age vs CarInsurance\n",
        "#p greater than 0.05, Age is not correlated to CarInsurance\n",
        "print(\"r value of Age and CarInsurance: \",scipy.stats.pearsonr(insurance.CarInsurance,insurance.Age)[0])\n",
        "print(\"p value of Age and CarInsurance: \",scipy.stats.pearsonr(insurance.CarInsurance,insurance.Age)[1])\n",
        "print()\n",
        "\n",
        "#NoOfContacts vs CarInsurance\n",
        "#p greater than 0.05, NoOfContacts is not correlated to CarInsurance\n",
        "print(\"r value of NoOfContacts and CarInsurance: \",scipy.stats.pearsonr(insurance.CarInsurance,insurance.NoOfContacts)[0])\n",
        "print(\"p value of NoOfContacts and CarInsurance: \",scipy.stats.pearsonr(insurance.CarInsurance,insurance.NoOfContacts)[1])\n",
        "print()\n",
        "\n",
        "#Balance vs CarInsurance\n",
        "#p greater than 0.05, Balance is not correlated to CarInsurance\n",
        "print(\"r value of Balance and CarInsurance: \",scipy.stats.pearsonr(insurance.CarInsurance,insurance.Balance)[0])\n",
        "print(\"p value of Balance and CarInsurance: \",scipy.stats.pearsonr(insurance.CarInsurance,insurance.Balance)[1])\n",
        "print()\n",
        "\n",
        "#DaysPassed vs CarInsurance\n",
        "#p greater than 0.05, DaysPassed is not correlated to CarInsurance\n",
        "print(\"r value of DaysPassed and CarInsurance: \",scipy.stats.pearsonr(insurance.CarInsurance,insurance.DaysPassed)[0])\n",
        "print(\"p value of DaysPassed and CarInsurance: \",scipy.stats.pearsonr(insurance.CarInsurance,insurance.DaysPassed)[1])\n",
        "print()\n",
        "\n",
        "#CallDuration vs CarInsurance\n",
        "#p greater than 0.05, CallDuration is not correlated to CarInsurance\n",
        "print(\"r value of CallDuration_min and CarInsurance: \",scipy.stats.pearsonr(insurance.CarInsurance,insurance[\"CallDuration(min)\"])[0])\n",
        "print(\"p value of CallDuration_min_ and CarInsurance: \",scipy.stats.pearsonr(insurance.CarInsurance,insurance[\"CallDuration(min)\"])[1])\n",
        "\n",
        "\n"
      ],
      "metadata": {
        "colab": {
          "base_uri": "https://localhost:8080/"
        },
        "id": "QhXTo845Elw8",
        "outputId": "7949741f-f1d2-44fb-e9b2-93671131ea9d"
      },
      "execution_count": null,
      "outputs": [
        {
          "output_type": "stream",
          "name": "stdout",
          "text": [
            "r value of Age and CarInsurance:  0.002673016806606948\n",
            "p value of Age and CarInsurance:  0.932720404991994\n",
            "\n",
            "r value of NoOfContacts and CarInsurance:  0.056604165013259086\n",
            "p value of NoOfContacts and CarInsurance:  0.07358636171249995\n",
            "\n",
            "r value of Balance and CarInsurance:  -0.006673860489916395\n",
            "p value of Balance and CarInsurance:  0.8330555219471294\n",
            "\n",
            "r value of DaysPassed and CarInsurance:  0.014738153623728836\n",
            "p value of DaysPassed and CarInsurance:  0.6415707809630493\n",
            "\n",
            "r value of CallDuration_min and CarInsurance:  0.04716174408213172\n",
            "p value of CallDuration_min_ and CarInsurance:  0.13613241070941928\n"
          ]
        }
      ]
    },
    {
      "cell_type": "code",
      "source": [
        "#produce a heatmap to represent the correlation between variables\n",
        "import seaborn as sns\n",
        "df = pd.DataFrame({'CarInsurance':insurance.CarInsurance, 'Age':insurance.Age, 'NoOfContacts':insurance.NoOfContacts, 'Balance':insurance.Balance, 'DaysPassed':insurance.DaysPassed, 'CallDuration': insurance[\"CallDuration(min)\"]})\n",
        "corr = df.corr()\n",
        "f, ax = plt.subplots(figsize=(12,10))\n",
        "mask = np.triu(np.ones_like(corr,dtype=bool))\n",
        "cmap = sns.diverging_palette(230,20, as_cmap= True)\n",
        "sns.heatmap(corr, annot=True, mask = mask, cmap = cmap)"
      ],
      "metadata": {
        "colab": {
          "base_uri": "https://localhost:8080/"
        },
        "id": "rC2Zv84ZRk6S",
        "outputId": "4b35d607-7a05-49bc-cd69-d56c62f13b72"
      },
      "execution_count": null,
      "outputs": [
        {
          "output_type": "execute_result",
          "data": {
            "text/plain": [
              "<matplotlib.axes._subplots.AxesSubplot at 0x7fc5670c18b0>"
            ]
          },
          "metadata": {},
          "execution_count": 206
        },
        {
          "output_type": "display_data",
          "data": {
            "text/plain": [
              "<Figure size 864x720 with 2 Axes>"
            ],
            "image/png": "[encoded data removed]"
          },
          "metadata": {
            "needs_background": "light"
          }
        }
      ]
    },
    {
      "cell_type": "markdown",
      "source": [
        "### ***OBJECTIVE 3***\n",
        "Use regression model (Lasso) for feature selection"
      ],
      "metadata": {
        "id": "R9oRFIRMcg5J"
      }
    },
    {
      "cell_type": "code",
      "source": [
        "from sklearn.linear_model import Lasso\n",
        "from sklearn.pipeline import Pipeline\n",
        "from sklearn.preprocessing import StandardScaler, OneHotEncoder, OrdinalEncoder\n",
        "from sklearn.compose import ColumnTransformer"
      ],
      "metadata": {
        "id": "L6syLFuEJ0MR"
      },
      "execution_count": null,
      "outputs": []
    },
    {
      "cell_type": "code",
      "source": [
        "#dividing X to numerical and categorical\n",
        "X_num = insurance[[\"Balance\", \"PrevAttempts\", \"CallDuration(min)\", \"DaysPassed\", \"NoOfContacts\", \"Age\"]]\n",
        "X_cat = insurance[[\"CarInsurance\",\"LastContactDay\",\"Job\", \"Marital\", \"Education\", \"Default\", \"HHInsurance\", \"CarLoan\", \"LastContactMonth\", \"Outcome\",  \"Communication\"]]\n",
        "\n",
        "y1 = insurance['Rating']"
      ],
      "metadata": {
        "id": "lDqwelGzKBrG"
      },
      "execution_count": null,
      "outputs": []
    },
    {
      "cell_type": "code",
      "source": [
        "#For numerical data\n",
        "from sklearn.model_selection import train_test_split\n",
        "X1_train, X1_test, y1_train, y1_test = train_test_split(X_num, y1, test_size=0.25, random_state=42)"
      ],
      "metadata": {
        "id": "clMNkNYPLLn3"
      },
      "execution_count": null,
      "outputs": []
    },
    {
      "cell_type": "code",
      "source": [
        "#feature scaling\n",
        "pipeline = Pipeline([('scaler', StandardScaler()), ('model', Lasso())])"
      ],
      "metadata": {
        "id": "3pluCsOiSRJi"
      },
      "execution_count": null,
      "outputs": []
    },
    {
      "cell_type": "code",
      "source": [
        "#use GridSearchCV to find out the best hyperparameter for our data\n",
        "from sklearn.model_selection import GridSearchCV\n",
        "search = GridSearchCV(pipeline,\n",
        "                      {'model__alpha':np.arange(0.1,10,0.1)},\n",
        "                      cv = 5,scoring=\"neg_mean_squared_error\"\n",
        "                      )"
      ],
      "metadata": {
        "id": "r-5DIWmMSxcq"
      },
      "execution_count": null,
      "outputs": []
    },
    {
      "cell_type": "code",
      "source": [
        "search.fit(X1_train, y1_train)"
      ],
      "metadata": {
        "colab": {
          "base_uri": "https://localhost:8080/"
        },
        "id": "kTBI794fS7Y4",
        "outputId": "6c132583-1c28-411b-ef8a-3b3d686cc879"
      },
      "execution_count": null,
      "outputs": [
        {
          "output_type": "execute_result",
          "data": {
            "text/plain": [
              "GridSearchCV(cv=5,\n",
              "             estimator=Pipeline(steps=[('scaler', StandardScaler()),\n",
              "                                       ('model', Lasso())]),\n",
              "             param_grid={'model__alpha': array([0.1, 0.2, 0.3, 0.4, 0.5, 0.6, 0.7, 0.8, 0.9, 1. , 1.1, 1.2, 1.3,\n",
              "       1.4, 1.5, 1.6, 1.7, 1.8, 1.9, 2. , 2.1, 2.2, 2.3, 2.4, 2.5, 2.6,\n",
              "       2.7, 2.8, 2.9, 3. , 3.1, 3.2, 3.3, 3.4, 3.5, 3.6, 3.7, 3.8, 3.9,\n",
              "       4. , 4.1, 4.2, 4.3, 4.4, 4.5, 4.6, 4.7, 4.8, 4.9, 5. , 5.1, 5.2,\n",
              "       5.3, 5.4, 5.5, 5.6, 5.7, 5.8, 5.9, 6. , 6.1, 6.2, 6.3, 6.4, 6.5,\n",
              "       6.6, 6.7, 6.8, 6.9, 7. , 7.1, 7.2, 7.3, 7.4, 7.5, 7.6, 7.7, 7.8,\n",
              "       7.9, 8. , 8.1, 8.2, 8.3, 8.4, 8.5, 8.6, 8.7, 8.8, 8.9, 9. , 9.1,\n",
              "       9.2, 9.3, 9.4, 9.5, 9.6, 9.7, 9.8, 9.9])},\n",
              "             scoring='neg_mean_squared_error')"
            ]
          },
          "metadata": {},
          "execution_count": 212
        }
      ]
    },
    {
      "cell_type": "code",
      "source": [
        "#the best parameter of numerical data is alpha of 0.1\n",
        "search.best_params_"
      ],
      "metadata": {
        "colab": {
          "base_uri": "https://localhost:8080/"
        },
        "id": "INgB_HaOTYB4",
        "outputId": "ab9b2a36-a5d9-460a-95ee-8abbf4f8374e"
      },
      "execution_count": null,
      "outputs": [
        {
          "output_type": "execute_result",
          "data": {
            "text/plain": [
              "{'model__alpha': 0.1}"
            ]
          },
          "metadata": {},
          "execution_count": 213
        }
      ]
    },
    {
      "cell_type": "code",
      "source": [
        "coefficients = search.best_estimator_.named_steps['model'].coef_"
      ],
      "metadata": {
        "id": "NQWvPzmSTaCO"
      },
      "execution_count": null,
      "outputs": []
    },
    {
      "cell_type": "code",
      "source": [
        "#Importance of each feature can be determined by its coefficient\n",
        "#According to this analysis, each feature has no correlation with rating\n",
        "importance = np.abs(coefficients)\n",
        "importance"
      ],
      "metadata": {
        "colab": {
          "base_uri": "https://localhost:8080/"
        },
        "id": "K4nuFWxSTcee",
        "outputId": "e7e8a9ba-a4b0-439d-e91c-e9d64f8bc94a"
      },
      "execution_count": null,
      "outputs": [
        {
          "output_type": "execute_result",
          "data": {
            "text/plain": [
              "array([0., 0., 0., 0., 0., 0.])"
            ]
          },
          "metadata": {},
          "execution_count": 215
        }
      ]
    },
    {
      "cell_type": "code",
      "source": [
        "#For categorical data\n",
        "X2_train, X2_test, y2_train, y2_test = train_test_split(X_cat, y1, test_size=0.25, random_state=42)"
      ],
      "metadata": {
        "id": "HE01RNaqTwmS"
      },
      "execution_count": null,
      "outputs": []
    },
    {
      "cell_type": "code",
      "source": [
        "#Feature scaling\n",
        "pipeline1 = Pipeline([('odi', OrdinalEncoder()), ('model', Lasso())])"
      ],
      "metadata": {
        "id": "jrZ3VW7RUeyb"
      },
      "execution_count": null,
      "outputs": []
    },
    {
      "cell_type": "code",
      "source": [
        "search = GridSearchCV(pipeline1,\n",
        "                      {'model__alpha':np.arange(0.1,10,0.1)},\n",
        "                      cv = 5, scoring=\"neg_mean_squared_error\"\n",
        "                      )"
      ],
      "metadata": {
        "id": "XAqCcftJVyur"
      },
      "execution_count": null,
      "outputs": []
    },
    {
      "cell_type": "code",
      "source": [
        "search.fit(X2_train, y2_train)"
      ],
      "metadata": {
        "colab": {
          "base_uri": "https://localhost:8080/"
        },
        "id": "QFSdDH8_V2-_",
        "outputId": "efae576a-4cde-4eb8-9b9e-42b4b697863c"
      },
      "execution_count": null,
      "outputs": [
        {
          "output_type": "execute_result",
          "data": {
            "text/plain": [
              "GridSearchCV(cv=5,\n",
              "             estimator=Pipeline(steps=[('odi', OrdinalEncoder()),\n",
              "                                       ('model', Lasso())]),\n",
              "             param_grid={'model__alpha': array([0.1, 0.2, 0.3, 0.4, 0.5, 0.6, 0.7, 0.8, 0.9, 1. , 1.1, 1.2, 1.3,\n",
              "       1.4, 1.5, 1.6, 1.7, 1.8, 1.9, 2. , 2.1, 2.2, 2.3, 2.4, 2.5, 2.6,\n",
              "       2.7, 2.8, 2.9, 3. , 3.1, 3.2, 3.3, 3.4, 3.5, 3.6, 3.7, 3.8, 3.9,\n",
              "       4. , 4.1, 4.2, 4.3, 4.4, 4.5, 4.6, 4.7, 4.8, 4.9, 5. , 5.1, 5.2,\n",
              "       5.3, 5.4, 5.5, 5.6, 5.7, 5.8, 5.9, 6. , 6.1, 6.2, 6.3, 6.4, 6.5,\n",
              "       6.6, 6.7, 6.8, 6.9, 7. , 7.1, 7.2, 7.3, 7.4, 7.5, 7.6, 7.7, 7.8,\n",
              "       7.9, 8. , 8.1, 8.2, 8.3, 8.4, 8.5, 8.6, 8.7, 8.8, 8.9, 9. , 9.1,\n",
              "       9.2, 9.3, 9.4, 9.5, 9.6, 9.7, 9.8, 9.9])},\n",
              "             scoring='neg_mean_squared_error')"
            ]
          },
          "metadata": {},
          "execution_count": 219
        }
      ]
    },
    {
      "cell_type": "code",
      "source": [
        "#the best parameter for categorical data is alpha of 0.1\n",
        "search.best_params_"
      ],
      "metadata": {
        "colab": {
          "base_uri": "https://localhost:8080/"
        },
        "id": "jmP4OuXVV8IK",
        "outputId": "55b7571e-fb5e-4f9a-ce35-958fe14f6c24"
      },
      "execution_count": null,
      "outputs": [
        {
          "output_type": "execute_result",
          "data": {
            "text/plain": [
              "{'model__alpha': 0.1}"
            ]
          },
          "metadata": {},
          "execution_count": 220
        }
      ]
    },
    {
      "cell_type": "code",
      "source": [
        "#Importance of each feature can be determined by its coefficient\n",
        "#According to this analysis, CarInsurance and LastContactDay are correlated with rating with coefficient of 0.35 and 0.0018 respectively\n",
        "coefficients1 = search.best_estimator_.named_steps['model'].coef_\n",
        "importance1 = np.abs(coefficients1)\n",
        "importance1"
      ],
      "metadata": {
        "colab": {
          "base_uri": "https://localhost:8080/"
        },
        "id": "l8aJ_FM8V-Yq",
        "outputId": "5d575525-c42d-4b15-eb92-42ab78804057"
      },
      "execution_count": null,
      "outputs": [
        {
          "output_type": "execute_result",
          "data": {
            "text/plain": [
              "array([0.35060788, 0.00179868, 0.        , 0.        , 0.        ,\n",
              "       0.        , 0.        , 0.        , 0.        , 0.        ,\n",
              "       0.        ])"
            ]
          },
          "metadata": {},
          "execution_count": 221
        }
      ]
    },
    {
      "cell_type": "markdown",
      "source": [
        "### ***OBJECTIVE 4***\n",
        "Sentiment Analysis"
      ],
      "metadata": {
        "id": "lvz8nGi-xsqP"
      }
    },
    {
      "cell_type": "code",
      "source": [
        "#compare ratings to each communication channel ('text' : 0, 'email' : 1, 'telephone' : 2) and from there the channel with the highest average rating\n",
        "\n",
        "new_df = insurance[['Communication','Rating']].copy()\n",
        "new_df.Communication.value_counts() #get number\n"
      ],
      "metadata": {
        "colab": {
          "base_uri": "https://localhost:8080/"
        },
        "id": "CCuQDhq-bpDV",
        "outputId": "7e652e28-09f1-4f17-99fc-292271462f99"
      },
      "execution_count": null,
      "outputs": [
        {
          "output_type": "execute_result",
          "data": {
            "text/plain": [
              "0    698\n",
              "1    221\n",
              "2     81\n",
              "Name: Communication, dtype: int64"
            ]
          },
          "metadata": {},
          "execution_count": 222
        }
      ]
    },
    {
      "cell_type": "code",
      "source": [
        "#Method 1 to show the count for each communication and rating\n",
        "#The most effective method for cold calling as its success rate is 57.47%, which is calculated by number of 1 / (number of 0 + number of 1)\n",
        "dups_Communication_Rating = new_df.pivot_table(columns=['Communication','Rating',], aggfunc='size')\n",
        "print(dups_Communication_Rating)\n"
      ],
      "metadata": {
        "colab": {
          "base_uri": "https://localhost:8080/"
        },
        "id": "cpuNLosArBDI",
        "outputId": "a27847b6-7a67-4a87-9895-f4d13249a5f5"
      },
      "execution_count": null,
      "outputs": [
        {
          "output_type": "stream",
          "name": "stdout",
          "text": [
            "Communication  Rating\n",
            "0              0.0       340\n",
            "               1.0       358\n",
            "1              0.0        94\n",
            "               1.0       127\n",
            "2              0.0        49\n",
            "               1.0        32\n",
            "dtype: int64\n"
          ]
        }
      ]
    },
    {
      "cell_type": "markdown",
      "source": [
        "### ***OBJECTIVE 5***\n",
        "Use prediction model to find out if the customer will subscribe or not"
      ],
      "metadata": {
        "id": "2567UUovcMl-"
      }
    },
    {
      "cell_type": "code",
      "source": [
        "y = insurance.Rating.copy()\n",
        "X = insurance[[\"Age\", \"Communication\", \"CallDuration(min)\", \"DaysPassed\", \"NoOfContacts\"]].copy()"
      ],
      "metadata": {
        "id": "K2ezTqTigkou"
      },
      "execution_count": null,
      "outputs": []
    },
    {
      "cell_type": "code",
      "source": [
        "from sklearn.model_selection import train_test_split\n",
        "from sklearn.svm import SVC\n",
        "from sklearn.ensemble import RandomForestClassifier\n",
        "from xgboost import XGBClassifier"
      ],
      "metadata": {
        "id": "DStkihF6lf1R"
      },
      "execution_count": null,
      "outputs": []
    },
    {
      "cell_type": "code",
      "source": [
        "#feature scaling of categorical data : one-hot encoding\n",
        "#feature scaling of numerical data : standardization\n",
        "numeric_transformer = Pipeline(steps = [(\n",
        "                        'scaler', StandardScaler())])\n",
        "\n",
        "categorical_transformer = Pipeline(steps=[(\n",
        "                            'ohe', OneHotEncoder(drop = 'first'))])\n",
        "\n",
        "preprocessor = ColumnTransformer(transformers = [\n",
        "                ('num', numeric_transformer, [\"CallDuration(min)\", \"DaysPassed\", \"NoOfContacts\", \"Age\"]),\n",
        "                ('cat', categorical_transformer, [\"Communication\"])])"
      ],
      "metadata": {
        "id": "NxP1Z0JQeMM1"
      },
      "execution_count": null,
      "outputs": []
    },
    {
      "cell_type": "code",
      "source": [
        "#Standardization of numerical data\n",
        "scalerr = StandardScaler()\n",
        "df1 = insurance[[\"CallDuration(min)\", \"DaysPassed\", \"NoOfContacts\", \"Age\"]].copy()\n",
        "scaled = scalerr.fit_transform(df1)\n",
        "scaled_df = pd.DataFrame(scaled, columns=[\"CallDuration(min)\", \"DaysPassed\", \"NoOfContacts\", \"Age\"])\n",
        "scaled_df"
      ],
      "metadata": {
        "colab": {
          "base_uri": "https://localhost:8080/",
          "height": 424
        },
        "id": "LoXlC0N_Dscf",
        "outputId": "32fb4d55-73b8-4c57-aa99-3eae27587cfd"
      },
      "execution_count": null,
      "outputs": [
        {
          "output_type": "execute_result",
          "data": {
            "text/plain": [
              "     CallDuration(min)  DaysPassed  NoOfContacts       Age\n",
              "0            -0.946187   -0.482575      3.684738 -1.367559\n",
              "1            -0.860907   -0.482575     -0.585397 -0.122286\n",
              "2            -0.710933   -0.482575      2.908350  0.209787\n",
              "3            -0.261011   -0.482575     -0.585397 -1.201523\n",
              "4            -0.572722   -0.482575     -0.585397  0.956951\n",
              "..                 ...         ...           ...       ...\n",
              "995          -0.572722   -0.482575     -0.585397 -0.869450\n",
              "996          -0.096333    0.511856     -0.585397  0.873933\n",
              "997          -0.846204   -0.482575     -0.197203  0.375823\n",
              "998          -0.610951   -0.482575      0.579186  1.538078\n",
              "999           1.673950   -0.482575     -0.197203 -1.118504\n",
              "\n",
              "[1000 rows x 4 columns]"
            ],
            "text/html": [
              "\n",
              "  <div id=\"df-5b98f5b7-0c5a-4802-a635-d1a58a7de6bc\">\n",
              "    <div class=\"colab-df-container\">\n",
              "      <div>\n",
              "<style scoped>\n",
              "    .dataframe tbody tr th:only-of-type {\n",
              "        vertical-align: middle;\n",
              "    }\n",
              "\n",
              "    .dataframe tbody tr th {\n",
              "        vertical-align: top;\n",
              "    }\n",
              "\n",
              "    .dataframe thead th {\n",
              "        text-align: right;\n",
              "    }\n",
              "</style>\n",
              "<table border=\"1\" class=\"dataframe\">\n",
              "  <thead>\n",
              "    <tr style=\"text-align: right;\">\n",
              "      <th></th>\n",
              "      <th>CallDuration(min)</th>\n",
              "      <th>DaysPassed</th>\n",
              "      <th>NoOfContacts</th>\n",
              "      <th>Age</th>\n",
              "    </tr>\n",
              "  </thead>\n",
              "  <tbody>\n",
              "    <tr>\n",
              "      <th>0</th>\n",
              "      <td>-0.946187</td>\n",
              "      <td>-0.482575</td>\n",
              "      <td>3.684738</td>\n",
              "      <td>-1.367559</td>\n",
              "    </tr>\n",
              "    <tr>\n",
              "      <th>1</th>\n",
              "      <td>-0.860907</td>\n",
              "      <td>-0.482575</td>\n",
              "      <td>-0.585397</td>\n",
              "      <td>-0.122286</td>\n",
              "    </tr>\n",
              "    <tr>\n",
              "      <th>2</th>\n",
              "      <td>-0.710933</td>\n",
              "      <td>-0.482575</td>\n",
              "      <td>2.908350</td>\n",
              "      <td>0.209787</td>\n",
              "    </tr>\n",
              "    <tr>\n",
              "      <th>3</th>\n",
              "      <td>-0.261011</td>\n",
              "      <td>-0.482575</td>\n",
              "      <td>-0.585397</td>\n",
              "      <td>-1.201523</td>\n",
              "    </tr>\n",
              "    <tr>\n",
              "      <th>4</th>\n",
              "      <td>-0.572722</td>\n",
              "      <td>-0.482575</td>\n",
              "      <td>-0.585397</td>\n",
              "      <td>0.956951</td>\n",
              "    </tr>\n",
              "    <tr>\n",
              "      <th>...</th>\n",
              "      <td>...</td>\n",
              "      <td>...</td>\n",
              "      <td>...</td>\n",
              "      <td>...</td>\n",
              "    </tr>\n",
              "    <tr>\n",
              "      <th>995</th>\n",
              "      <td>-0.572722</td>\n",
              "      <td>-0.482575</td>\n",
              "      <td>-0.585397</td>\n",
              "      <td>-0.869450</td>\n",
              "    </tr>\n",
              "    <tr>\n",
              "      <th>996</th>\n",
              "      <td>-0.096333</td>\n",
              "      <td>0.511856</td>\n",
              "      <td>-0.585397</td>\n",
              "      <td>0.873933</td>\n",
              "    </tr>\n",
              "    <tr>\n",
              "      <th>997</th>\n",
              "      <td>-0.846204</td>\n",
              "      <td>-0.482575</td>\n",
              "      <td>-0.197203</td>\n",
              "      <td>0.375823</td>\n",
              "    </tr>\n",
              "    <tr>\n",
              "      <th>998</th>\n",
              "      <td>-0.610951</td>\n",
              "      <td>-0.482575</td>\n",
              "      <td>0.579186</td>\n",
              "      <td>1.538078</td>\n",
              "    </tr>\n",
              "    <tr>\n",
              "      <th>999</th>\n",
              "      <td>1.673950</td>\n",
              "      <td>-0.482575</td>\n",
              "      <td>-0.197203</td>\n",
              "      <td>-1.118504</td>\n",
              "    </tr>\n",
              "  </tbody>\n",
              "</table>\n",
              "<p>1000 rows × 4 columns</p>\n",
              "</div>\n",
              "      <button class=\"colab-df-convert\" onclick=\"convertToInteractive('df-5b98f5b7-0c5a-4802-a635-d1a58a7de6bc')\"\n",
              "              title=\"Convert this dataframe to an interactive table.\"\n",
              "              style=\"display:none;\">\n",
              "        \n",
              "  <svg xmlns=\"http://www.w3.org/2000/svg\" height=\"24px\"viewBox=\"0 0 24 24\"\n",
              "       width=\"24px\">\n",
              "    <path d=\"M0 0h24v24H0V0z\" fill=\"none\"/>\n",
              "    <path d=\"M18.56 5.44l.94 2.06.94-2.06 2.06-.94-2.06-.94-.94-2.06-.94 2.06-2.06.94zm-11 1L8.5 8.5l.94-2.06 2.06-.94-2.06-.94L8.5 2.5l-.94 2.06-2.06.94zm10 10l.94 2.06.94-2.06 2.06-.94-2.06-.94-.94-2.06-.94 2.06-2.06.94z\"/><path d=\"M17.41 7.96l-1.37-1.37c-.4-.4-.92-.59-1.43-.59-.52 0-1.04.2-1.43.59L10.3 9.45l-7.72 7.72c-.78.78-.78 2.05 0 2.83L4 21.41c.39.39.9.59 1.41.59.51 0 1.02-.2 1.41-.59l7.78-7.78 2.81-2.81c.8-.78.8-2.07 0-2.86zM5.41 20L4 18.59l7.72-7.72 1.47 1.35L5.41 20z\"/>\n",
              "  </svg>\n",
              "      </button>\n",
              "      \n",
              "  <style>\n",
              "    .colab-df-container {\n",
              "      display:flex;\n",
              "      flex-wrap:wrap;\n",
              "      gap: 12px;\n",
              "    }\n",
              "\n",
              "    .colab-df-convert {\n",
              "      background-color: #E8F0FE;\n",
              "      border: none;\n",
              "      border-radius: 50%;\n",
              "      cursor: pointer;\n",
              "      display: none;\n",
              "      fill: #1967D2;\n",
              "      height: 32px;\n",
              "      padding: 0 0 0 0;\n",
              "      width: 32px;\n",
              "    }\n",
              "\n",
              "    .colab-df-convert:hover {\n",
              "      background-color: #E2EBFA;\n",
              "      box-shadow: 0px 1px 2px rgba(60, 64, 67, 0.3), 0px 1px 3px 1px rgba(60, 64, 67, 0.15);\n",
              "      fill: #174EA6;\n",
              "    }\n",
              "\n",
              "    [theme=dark] .colab-df-convert {\n",
              "      background-color: #3B4455;\n",
              "      fill: #D2E3FC;\n",
              "    }\n",
              "\n",
              "    [theme=dark] .colab-df-convert:hover {\n",
              "      background-color: #434B5C;\n",
              "      box-shadow: 0px 1px 3px 1px rgba(0, 0, 0, 0.15);\n",
              "      filter: drop-shadow(0px 1px 2px rgba(0, 0, 0, 0.3));\n",
              "      fill: #FFFFFF;\n",
              "    }\n",
              "  </style>\n",
              "\n",
              "      <script>\n",
              "        const buttonEl =\n",
              "          document.querySelector('#df-5b98f5b7-0c5a-4802-a635-d1a58a7de6bc button.colab-df-convert');\n",
              "        buttonEl.style.display =\n",
              "          google.colab.kernel.accessAllowed ? 'block' : 'none';\n",
              "\n",
              "        async function convertToInteractive(key) {\n",
              "          const element = document.querySelector('#df-5b98f5b7-0c5a-4802-a635-d1a58a7de6bc');\n",
              "          const dataTable =\n",
              "            await google.colab.kernel.invokeFunction('convertToInteractive',\n",
              "                                                     [key], {});\n",
              "          if (!dataTable) return;\n",
              "\n",
              "          const docLinkHtml = 'Like what you see? Visit the ' +\n",
              "            '<a target=\"_blank\" href=https://colab.research.google.com/notebooks/data_table.ipynb>data table notebook</a>'\n",
              "            + ' to learn more about interactive tables.';\n",
              "          element.innerHTML = '';\n",
              "          dataTable['output_type'] = 'display_data';\n",
              "          await google.colab.output.renderOutput(dataTable, element);\n",
              "          const docLink = document.createElement('div');\n",
              "          docLink.innerHTML = docLinkHtml;\n",
              "          element.appendChild(docLink);\n",
              "        }\n",
              "      </script>\n",
              "    </div>\n",
              "  </div>\n",
              "  "
            ]
          },
          "metadata": {},
          "execution_count": 227
        }
      ]
    },
    {
      "cell_type": "code",
      "source": [
        "#Distribution of standardized \"CallDuration(min)\"\n",
        "sns.distplot(scaled_df[\"CallDuration(min)\"])"
      ],
      "metadata": {
        "colab": {
          "base_uri": "https://localhost:8080/",
          "height": 355
        },
        "id": "RrfxYxZGE5BH",
        "outputId": "7445e17e-bcbc-4081-a916-4a617a79ed3a"
      },
      "execution_count": null,
      "outputs": [
        {
          "output_type": "stream",
          "name": "stderr",
          "text": [
            "/usr/local/lib/python3.8/dist-packages/seaborn/distributions.py:2619: FutureWarning: `distplot` is a deprecated function and will be removed in a future version. Please adapt your code to use either `displot` (a figure-level function with similar flexibility) or `histplot` (an axes-level function for histograms).\n",
            "  warnings.warn(msg, FutureWarning)\n"
          ]
        },
        {
          "output_type": "execute_result",
          "data": {
            "text/plain": [
              "<matplotlib.axes._subplots.AxesSubplot at 0x7fc566f73ca0>"
            ]
          },
          "metadata": {},
          "execution_count": 228
        },
        {
          "output_type": "display_data",
          "data": {
            "text/plain": [
              "<Figure size 432x288 with 1 Axes>"
            ],
            "image/png": "[encoded data removed]"
          },
          "metadata": {
            "needs_background": "light"
          }
        }
      ]
    },
    {
      "cell_type": "code",
      "source": [
        "#Distribution of standardized \"DaysPassed\"\n",
        "sns.distplot(scaled_df[\"DaysPassed\"])"
      ],
      "metadata": {
        "colab": {
          "base_uri": "https://localhost:8080/",
          "height": 355
        },
        "id": "hy6w5P2lGGU3",
        "outputId": "3bb88636-2fdd-4073-9422-2ea189337346"
      },
      "execution_count": null,
      "outputs": [
        {
          "output_type": "stream",
          "name": "stderr",
          "text": [
            "/usr/local/lib/python3.8/dist-packages/seaborn/distributions.py:2619: FutureWarning: `distplot` is a deprecated function and will be removed in a future version. Please adapt your code to use either `displot` (a figure-level function with similar flexibility) or `histplot` (an axes-level function for histograms).\n",
            "  warnings.warn(msg, FutureWarning)\n"
          ]
        },
        {
          "output_type": "execute_result",
          "data": {
            "text/plain": [
              "<matplotlib.axes._subplots.AxesSubplot at 0x7fc566e93d00>"
            ]
          },
          "metadata": {},
          "execution_count": 229
        },
        {
          "output_type": "display_data",
          "data": {
            "text/plain": [
              "<Figure size 432x288 with 1 Axes>"
            ],
            "image/png": "[encoded data removed]"
          },
          "metadata": {
            "needs_background": "light"
          }
        }
      ]
    },
    {
      "cell_type": "code",
      "source": [
        "#Distribution of standardized \"NoOfContacts\"\n",
        "sns.distplot(scaled_df[\"NoOfContacts\"])"
      ],
      "metadata": {
        "colab": {
          "base_uri": "https://localhost:8080/",
          "height": 355
        },
        "id": "CJra5RDfGH5c",
        "outputId": "48dcf1d1-4c03-4e0d-9e66-aaee65b97b5a"
      },
      "execution_count": null,
      "outputs": [
        {
          "output_type": "stream",
          "name": "stderr",
          "text": [
            "/usr/local/lib/python3.8/dist-packages/seaborn/distributions.py:2619: FutureWarning: `distplot` is a deprecated function and will be removed in a future version. Please adapt your code to use either `displot` (a figure-level function with similar flexibility) or `histplot` (an axes-level function for histograms).\n",
            "  warnings.warn(msg, FutureWarning)\n"
          ]
        },
        {
          "output_type": "execute_result",
          "data": {
            "text/plain": [
              "<matplotlib.axes._subplots.AxesSubplot at 0x7fc566dacd90>"
            ]
          },
          "metadata": {},
          "execution_count": 230
        },
        {
          "output_type": "display_data",
          "data": {
            "text/plain": [
              "<Figure size 432x288 with 1 Axes>"
            ],
            "image/png": "[encoded data removed]"
          },
          "metadata": {
            "needs_background": "light"
          }
        }
      ]
    },
    {
      "cell_type": "code",
      "source": [
        "#Distribution of standardized \"Age\"\n",
        "sns.distplot(scaled_df[\"Age\"])"
      ],
      "metadata": {
        "colab": {
          "base_uri": "https://localhost:8080/",
          "height": 355
        },
        "id": "y--hZPssGURk",
        "outputId": "a00281ec-4c48-4986-b43c-e2734acbbe96"
      },
      "execution_count": null,
      "outputs": [
        {
          "output_type": "stream",
          "name": "stderr",
          "text": [
            "/usr/local/lib/python3.8/dist-packages/seaborn/distributions.py:2619: FutureWarning: `distplot` is a deprecated function and will be removed in a future version. Please adapt your code to use either `displot` (a figure-level function with similar flexibility) or `histplot` (an axes-level function for histograms).\n",
            "  warnings.warn(msg, FutureWarning)\n"
          ]
        },
        {
          "output_type": "execute_result",
          "data": {
            "text/plain": [
              "<matplotlib.axes._subplots.AxesSubplot at 0x7fc56765f730>"
            ]
          },
          "metadata": {},
          "execution_count": 231
        },
        {
          "output_type": "display_data",
          "data": {
            "text/plain": [
              "<Figure size 432x288 with 1 Axes>"
            ],
            "image/png": "[encoded data removed]"
          },
          "metadata": {
            "needs_background": "light"
          }
        }
      ]
    },
    {
      "cell_type": "code",
      "source": [
        "#Use classification model for prediction\n",
        "from sklearn.metrics import confusion_matrix\n",
        "lst0 = ['Logistic Regression', 'RandomForestClassifier', 'XGBClassifier', 'SVC']\n",
        "lst1 = []\n",
        "acc = []\n",
        "rec = []\n",
        "prec = []\n",
        "X_train, X_test, y_train, y_test = train_test_split(X, y, test_size = 0.2, random_state=1)\n",
        "from sklearn.linear_model import LogisticRegression\n",
        "from sklearn.metrics import accuracy_score, recall_score, precision_score\n",
        "for i in  [LogisticRegression(), RandomForestClassifier(random_state=0), XGBClassifier(random_state=0), SVC(gamma='auto')]:\n",
        "  clf = Pipeline(steps = [('preprocessor', preprocessor), ('classifier', i)])\n",
        "  clf.fit(X_train, y_train)\n",
        "  prediction = clf.predict(X_test)\n",
        "  lst1.append(prediction)\n",
        "\n",
        "for idx, val in enumerate(lst1):\n",
        "  print(lst0[idx])\n",
        "  print(\"Accuracy : \", accuracy_score(y_test, lst1[idx]))\n",
        "  print(\"Recall : \", recall_score(y_test, lst1[idx]))\n",
        "  print(\"Precision : \", precision_score(y_test, lst1[idx]))\n",
        "  acc.append(accuracy_score(y_test, lst1[idx]))\n",
        "  rec.append(recall_score(y_test, lst1[idx]))\n",
        "  prec.append(precision_score(y_test, lst1[idx]))\n",
        "\n",
        "cm_lr = confusion_matrix(lst1[0], y_test)\n",
        "cm_rf = confusion_matrix(lst1[1], y_test)\n",
        "cm_xgb = confusion_matrix(lst1[2], y_test)\n",
        "cm_svm = confusion_matrix(lst1[3], y_test)"
      ],
      "metadata": {
        "id": "AVIBxHDJep7R",
        "colab": {
          "base_uri": "https://localhost:8080/"
        },
        "outputId": "d546ff02-dea4-44a0-f08c-b1f0dee39fb2"
      },
      "execution_count": null,
      "outputs": [
        {
          "output_type": "stream",
          "name": "stdout",
          "text": [
            "Logistic Regression\n",
            "Accuracy :  0.61\n",
            "Recall :  0.8090909090909091\n",
            "Precision :  0.6095890410958904\n",
            "RandomForestClassifier\n",
            "Accuracy :  0.52\n",
            "Recall :  0.5545454545454546\n",
            "Precision :  0.5648148148148148\n",
            "XGBClassifier\n",
            "Accuracy :  0.435\n",
            "Recall :  0.4727272727272727\n",
            "Precision :  0.48598130841121495\n",
            "SVC\n",
            "Accuracy :  0.6\n",
            "Recall :  0.6181818181818182\n",
            "Precision :  0.6415094339622641\n"
          ]
        }
      ]
    },
    {
      "cell_type": "code",
      "source": [
        "#A function for creating confusion matrix\n",
        "import seaborn as sns\n",
        "def create_cm(cm, title):\n",
        "  sns.heatmap(cm, annot=True, fmt = \".0f\")\n",
        "  plt.yticks([1.5,0.5], [0, 1])\n",
        "  plt.xticks([1.5,0.5], [0, 1])\n",
        "  plt.ylabel(\"Actual\")\n",
        "  plt.xlabel(\"Predicted\")\n",
        "  plt.title(title)"
      ],
      "metadata": {
        "id": "NOKcOiMuklyo"
      },
      "execution_count": null,
      "outputs": []
    },
    {
      "cell_type": "code",
      "source": [
        "create_cm(cm_lr, \"Confusion Matrix of LogisticRegression\")"
      ],
      "metadata": {
        "colab": {
          "base_uri": "https://localhost:8080/",
          "height": 295
        },
        "id": "58_YgyfaknCK",
        "outputId": "9abe0219-ecdd-4a02-85db-fcbf470e409a"
      },
      "execution_count": null,
      "outputs": [
        {
          "output_type": "display_data",
          "data": {
            "text/plain": [
              "<Figure size 432x288 with 2 Axes>"
            ],
            "image/png": "[encoded data removed]"
          },
          "metadata": {
            "needs_background": "light"
          }
        }
      ]
    },
    {
      "cell_type": "code",
      "source": [
        "create_cm(cm_rf, \"Confusion Matrix of RandomForestClassifier\")"
      ],
      "metadata": {
        "colab": {
          "base_uri": "https://localhost:8080/",
          "height": 295
        },
        "id": "arzSVY6PueEo",
        "outputId": "f9cee8db-0a66-49ce-f2fc-105be2c86c65"
      },
      "execution_count": null,
      "outputs": [
        {
          "output_type": "display_data",
          "data": {
            "text/plain": [
              "<Figure size 432x288 with 2 Axes>"
            ],
            "image/png": "[encoded data removed]"
          },
          "metadata": {
            "needs_background": "light"
          }
        }
      ]
    },
    {
      "cell_type": "code",
      "source": [
        "create_cm(cm_xgb, \"Confusion Matrix of XGBClassifier\")"
      ],
      "metadata": {
        "colab": {
          "base_uri": "https://localhost:8080/",
          "height": 295
        },
        "id": "FkDI3EihukwG",
        "outputId": "499c74a6-2a2c-4c08-a820-24a8b1586425"
      },
      "execution_count": null,
      "outputs": [
        {
          "output_type": "display_data",
          "data": {
            "text/plain": [
              "<Figure size 432x288 with 2 Axes>"
            ],
            "image/png": "[encoded data removed]"
          },
          "metadata": {
            "needs_background": "light"
          }
        }
      ]
    },
    {
      "cell_type": "code",
      "source": [
        "create_cm(cm_svm, \"Confusion Matrix of SVC\")"
      ],
      "metadata": {
        "colab": {
          "base_uri": "https://localhost:8080/",
          "height": 295
        },
        "id": "R5M8nOGauoVT",
        "outputId": "d2211b1a-241c-4b25-ec8e-514a99f2638a"
      },
      "execution_count": null,
      "outputs": [
        {
          "output_type": "display_data",
          "data": {
            "text/plain": [
              "<Figure size 432x288 with 2 Axes>"
            ],
            "image/png": "[encoded data removed]"
          },
          "metadata": {
            "needs_background": "light"
          }
        }
      ]
    },
    {
      "cell_type": "code",
      "source": [
        "#Finding out the best hyperparameter for Logistic Regression\n",
        "from sklearn.model_selection import GridSearchCV\n",
        "clf1 = Pipeline(steps = [\n",
        "        ('preprocessor', preprocessor),\n",
        "        ('classifier', LogisticRegression())])\n",
        "\n",
        "param_grid1 = {'classifier__penalty' : ['none','l2'], 'classifier__C' : [0.001, 0.01, 0.1, 1, 10, 100], 'classifier__solver' : ['newton-cg','lbfgs']}\n",
        "\n",
        "search = GridSearchCV(clf1, n_jobs=-1, param_grid= param_grid1, cv = 7)\n",
        "search.fit(X_train, y_train)\n",
        "print(\"The best parameter for Logistic Regression :\", search.best_params_)"
      ],
      "metadata": {
        "colab": {
          "base_uri": "https://localhost:8080/"
        },
        "id": "Sz9fjihOLXKk",
        "outputId": "efe4f748-07aa-4f4b-f205-e9667aed2608"
      },
      "execution_count": null,
      "outputs": [
        {
          "output_type": "stream",
          "name": "stdout",
          "text": [
            "The best parameter for Logistic Regression : {'classifier__C': 0.001, 'classifier__penalty': 'l2', 'classifier__solver': 'newton-cg'}\n"
          ]
        }
      ]
    },
    {
      "cell_type": "code",
      "source": [
        "#Performance of Logistic Regression after tuning\n",
        "clf3 = Pipeline(steps = [('preprocessor', preprocessor), ('classifier', LogisticRegression(C=0.001, penalty='l2', solver='newton-cg'))])\n",
        "clf3.fit(X_train, y_train)\n",
        "pred1 = clf3.predict(X_test)\n",
        "print(\"Accuracy after tuning : \", accuracy_score(y_test, pred1))\n",
        "print(\"Recall after tuning : \", recall_score(y_test, pred1))\n",
        "print(\"Precision after tuning : \", precision_score(y_test, pred1))"
      ],
      "metadata": {
        "colab": {
          "base_uri": "https://localhost:8080/"
        },
        "id": "lVnaZGp5beG9",
        "outputId": "b986a32b-ece5-4bd2-bc5c-96b72b7b6299"
      },
      "execution_count": null,
      "outputs": [
        {
          "output_type": "stream",
          "name": "stdout",
          "text": [
            "Accuracy after tuning :  0.535\n",
            "Recall after tuning :  0.9636363636363636\n",
            "Precision after tuning :  0.5435897435897435\n"
          ]
        }
      ]
    },
    {
      "cell_type": "code",
      "source": [
        "#Finding out the best hyperparameter for SVC\n",
        "from sklearn.model_selection import GridSearchCV\n",
        "clf2 = Pipeline(steps = [\n",
        "        ('preprocessor', preprocessor),\n",
        "        ('classifier', SVC())])\n",
        "\n",
        "param_grid = {'classifier__C':[0.01, 0.1, 1,10,100], 'classifier__kernel':['linear','rbf']}\n",
        "\n",
        "search1 = GridSearchCV(clf2, n_jobs=-1, param_grid= param_grid, cv = 7)\n",
        "search1.fit(X_train, y_train)\n",
        "print(\"The best parameter for SVC :\", search1.best_params_)"
      ],
      "metadata": {
        "colab": {
          "base_uri": "https://localhost:8080/"
        },
        "id": "mHMkoNBzcKeg",
        "outputId": "c7012bd8-dd4e-4cc7-952c-3dd4917ca9bb"
      },
      "execution_count": null,
      "outputs": [
        {
          "output_type": "stream",
          "name": "stdout",
          "text": [
            "The best parameter for SVC : {'classifier__C': 1, 'classifier__kernel': 'linear'}\n"
          ]
        }
      ]
    },
    {
      "cell_type": "code",
      "source": [
        "#Performance of SVC after tuning\n",
        "clf5 = Pipeline(steps = [('preprocessor', preprocessor), ('classifier', SVC(C=1, kernel='linear'))])\n",
        "clf5.fit(X_train, y_train)\n",
        "pred2 = clf5.predict(X_test)\n",
        "print(\"Accuracy after tuning : \", accuracy_score(y_test, pred2))\n",
        "print(\"Recall after tuning : \", recall_score(y_test, pred2))\n",
        "print(\"Precision after tuning : \", precision_score(y_test, pred2))"
      ],
      "metadata": {
        "colab": {
          "base_uri": "https://localhost:8080/"
        },
        "id": "pRDbKxPBc0dc",
        "outputId": "35f37458-6fc8-46c4-9ded-85123568941e"
      },
      "execution_count": null,
      "outputs": [
        {
          "output_type": "stream",
          "name": "stdout",
          "text": [
            "Accuracy after tuning :  0.555\n",
            "Recall after tuning :  0.9545454545454546\n",
            "Precision after tuning :  0.5555555555555556\n"
          ]
        }
      ]
    },
    {
      "cell_type": "code",
      "source": [
        "#lists for each metrics,model before and after tuning\n",
        "acc_log = [0.61, accuracy_score(y_test, pred1)]\n",
        "rec_log = [0.8090909090909091, recall_score(y_test, pred1)]\n",
        "prec_log = [0.6095890410958904, precision_score(y_test, pred1)]\n",
        "acc_svc = [0.60, accuracy_score(y_test, pred2)]\n",
        "rec_svc = [0.6181818181818182, recall_score(y_test, pred2)]\n",
        "prec_svc = [0.6415094339622641, precision_score(y_test, pred2)]"
      ],
      "metadata": {
        "id": "RcZCYEjaii-1"
      },
      "execution_count": null,
      "outputs": []
    },
    {
      "cell_type": "code",
      "source": [
        "#Graphs showing the change in metrics of Logistic Regression and SVC before and after tuning hyperparameters\n",
        "y = acc_log.copy()\n",
        "x = [0,1]\n",
        "x_ticks_labels = ['before tuning', 'after tuning']\n",
        "fig, ax = plt.subplots(2,3, figsize = (17,17))\n",
        "ax[0,0].plot(x,y)\n",
        "ax[0,0].set_xticks(x)\n",
        "ax[0,0].set_xticklabels(x_ticks_labels, rotation='horizontal', fontsize=12)\n",
        "ax[0,0].title.set_text(\"Accuracy using Logistic Regression\")\n",
        "\n",
        "y0 = prec_log.copy()\n",
        "ax[0,1].plot(x,y0)\n",
        "ax[0,1].set_xticks(x)\n",
        "ax[0,1].set_xticklabels(x_ticks_labels, rotation='horizontal', fontsize=12)\n",
        "ax[0,1].title.set_text(\"Precision using Logistic Regression\")\n",
        "\n",
        "y1 = rec_log.copy()\n",
        "ax[0,2].plot(x,y1)\n",
        "ax[0,2].set_xticks(x)\n",
        "ax[0,2].set_xticklabels(x_ticks_labels, rotation='horizontal', fontsize=12)\n",
        "ax[0,2].title.set_text(\"Recall using Logistic Regression\")\n",
        "\n",
        "y2 = acc_svc.copy()\n",
        "ax[1,0].plot(x,y2)\n",
        "ax[1,0].set_xticks(x)\n",
        "ax[1,0].set_xticklabels(x_ticks_labels, rotation='horizontal', fontsize=12)\n",
        "ax[1,0].title.set_text(\"Accuracy using SVC\")\n",
        "\n",
        "y3 = prec_svc.copy()\n",
        "ax[1,1].plot(x,y3)\n",
        "ax[1,1].set_xticks(x)\n",
        "ax[1,1].set_xticklabels(x_ticks_labels, rotation='horizontal', fontsize=12)\n",
        "ax[1,1].title.set_text(\"Precision using SVC\")\n",
        "\n",
        "y4 = rec_svc.copy()\n",
        "ax[1,2].plot(x,y4)\n",
        "ax[1,2].set_xticks(x)\n",
        "ax[1,2].set_xticklabels(x_ticks_labels, rotation='horizontal', fontsize=12)\n",
        "ax[1,2].title.set_text(\"Recall using SVC\")"
      ],
      "metadata": {
        "colab": {
          "base_uri": "https://localhost:8080/",
          "height": 795
        },
        "id": "DdFozLNdkgED",
        "outputId": "dab08c5f-a7ba-469c-b3ac-1a2af0455da1"
      },
      "execution_count": null,
      "outputs": [
        {
          "output_type": "display_data",
          "data": {
            "text/plain": [
              "<Figure size 1224x1224 with 6 Axes>"
            ],
            "image/png": "[encoded data removed]"
          },
          "metadata": {
            "needs_background": "light"
          }
        }
      ]
    },
    {
      "cell_type": "code",
      "source": [
        "#Confusion Matrix of Logistic Regression after hyperparameter tuning is then created\n",
        "create_cm(confusion_matrix(y_test, pred1), \"Confusion Matrix of Logistic Regression after hyperparameter tuning\")"
      ],
      "metadata": {
        "colab": {
          "base_uri": "https://localhost:8080/",
          "height": 295
        },
        "id": "iCONH4Ig2XRM",
        "outputId": "a38d5b1d-55fb-41c8-badc-55b87c37a1a4"
      },
      "execution_count": null,
      "outputs": [
        {
          "output_type": "display_data",
          "data": {
            "text/plain": [
              "<Figure size 432x288 with 2 Axes>"
            ],
            "image/png": "[encoded data removed]"
          },
          "metadata": {
            "needs_background": "light"
          }
        }
      ]
    },
    {
      "cell_type": "code",
      "source": [
        "#Confusion Matrix of SVC after hyperparameter tuning is then created\n",
        "create_cm(confusion_matrix(y_test, pred2), \"Confusion Matrix of SVC after hyperparameter tuning\")"
      ],
      "metadata": {
        "colab": {
          "base_uri": "https://localhost:8080/",
          "height": 295
        },
        "id": "dOiFqRb_2uta",
        "outputId": "6f724492-1803-4245-94b4-146d8795fde8"
      },
      "execution_count": null,
      "outputs": [
        {
          "output_type": "display_data",
          "data": {
            "text/plain": [
              "<Figure size 432x288 with 2 Axes>"
            ],
            "image/png": "[encoded data removed]"
          },
          "metadata": {
            "needs_background": "light"
          }
        }
      ]
    },
    {
      "cell_type": "code",
      "source": [
        "%%shell\n",
        "jupyter nbconvert --to html /content/stat1005_Dongchan_Shin.ipynb"
      ],
      "metadata": {
        "colab": {
          "base_uri": "https://localhost:8080/"
        },
        "id": "P3IDZRaLY6pn",
        "outputId": "cbd575eb-a52b-43e0-fe76-f70b729f3200"
      },
      "execution_count": null,
      "outputs": [
        {
          "output_type": "stream",
          "name": "stdout",
          "text": [
            "[NbConvertApp] Converting notebook /content/stat1005_Dongchan_Shin.ipynb to html\n",
            "[NbConvertApp] Writing 685839 bytes to /content/stat1005_Dongchan_Shin.html\n"
          ]
        },
        {
          "output_type": "execute_result",
          "data": {
            "text/plain": []
          },
          "metadata": {},
          "execution_count": 1
        }
      ]
    }
  ]
}